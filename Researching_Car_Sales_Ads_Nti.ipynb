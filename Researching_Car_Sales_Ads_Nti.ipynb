{
 "cells": [
  {
   "cell_type": "markdown",
   "metadata": {},
   "source": [
    "# Research on Car Sales Advertisements"
   ]
  },
  {
   "cell_type": "markdown",
   "metadata": {},
   "source": [
    "# Introduction\n",
    "\n",
    "As an analyst at Crankshaft List. Hundreds of free advertisements for vehicles are published on my site every day. I need to study data collected over the last few years and determine which factors influence the price of a vehicle."
   ]
  },
  {
   "cell_type": "markdown",
   "metadata": {
    "toc": true
   },
   "source": [
    "<h1>Table of Contents<span class=\"tocSkip\"></span></h1>\n",
    "<div class=\"toc\"><ul class=\"toc-item\"><li><span><a href=\"#Step-1.-Open-the-data-file-and-study-the-general-information.\" data-toc-modified-id=\"Step-1.-Open-the-data-file-and-study-the-general-information.-1\">Step 1. Open the data file and study the general information.</a></span></li><li><span><a href=\"#Step-2.-Data-preprocessing\" data-toc-modified-id=\"Step-2.-Data-preprocessing-2\">Step 2. Data preprocessing</a></span><ul class=\"toc-item\"><li><span><a href=\"#Investigating-missing-values\" data-toc-modified-id=\"Investigating-missing-values-2.1\">Investigating missing values</a></span></li><li><span><a href=\"#Checking-if-there-are-duplicates-in-the-data\" data-toc-modified-id=\"Checking-if-there-are-duplicates-in-the-data-2.2\">Checking if there are duplicates in the data</a></span></li><li><span><a href=\"#Converting-the-data-to-the-required-types\" data-toc-modified-id=\"Converting-the-data-to-the-required-types-2.3\">Converting the data to the required types</a></span></li></ul></li><li><span><a href=\"#Step-3.-Make-calculations-and-add-them-to-the-table\" data-toc-modified-id=\"Step-3.-Make-calculations-and-add-them-to-the-table-3\">Step 3. Make calculations and add them to the table</a></span></li><li><span><a href=\"#Step-4.-Carry-out-exploratory-data-analysis\" data-toc-modified-id=\"Step-4.-Carry-out-exploratory-data-analysis-4\">Step 4. Carry out exploratory data analysis</a></span><ul class=\"toc-item\"><li><span><a href=\"#Plotting-histograms-for-each-parameter\" data-toc-modified-id=\"Plotting-histograms-for-each-parameter-4.1\">Plotting histograms for each parameter</a></span></li><li><span><a href=\"#Interim-conclusions-from-the-histograms\" data-toc-modified-id=\"Interim-conclusions-from-the-histograms-4.2\">Interim conclusions from the histograms</a></span></li><li><span><a href=\"#What-factors-impact-price-most?\" data-toc-modified-id=\"What-factors-impact-price-most?-4.3\">What factors impact price most?</a></span></li></ul></li><li><span><a href=\"#Step-5.-Overall-conclusion\" data-toc-modified-id=\"Step-5.-Overall-conclusion-5\">Step 5. Overall conclusion</a></span></li></ul></div>"
   ]
  },
  {
   "cell_type": "markdown",
   "metadata": {},
   "source": [
    "## Step 1. Open the data file and study the general information. "
   ]
  },
  {
   "cell_type": "markdown",
   "metadata": {},
   "source": [
    "Importing libraries and data"
   ]
  },
  {
   "cell_type": "code",
   "execution_count": 1,
   "metadata": {},
   "outputs": [
    {
     "data": {
      "text/html": [
       "<div>\n",
       "<style scoped>\n",
       "    .dataframe tbody tr th:only-of-type {\n",
       "        vertical-align: middle;\n",
       "    }\n",
       "\n",
       "    .dataframe tbody tr th {\n",
       "        vertical-align: top;\n",
       "    }\n",
       "\n",
       "    .dataframe thead th {\n",
       "        text-align: right;\n",
       "    }\n",
       "</style>\n",
       "<table border=\"1\" class=\"dataframe\">\n",
       "  <thead>\n",
       "    <tr style=\"text-align: right;\">\n",
       "      <th></th>\n",
       "      <th>price</th>\n",
       "      <th>model_year</th>\n",
       "      <th>model</th>\n",
       "      <th>condition</th>\n",
       "      <th>cylinders</th>\n",
       "      <th>fuel</th>\n",
       "      <th>odometer</th>\n",
       "      <th>transmission</th>\n",
       "      <th>type</th>\n",
       "      <th>paint_color</th>\n",
       "      <th>is_4wd</th>\n",
       "      <th>date_posted</th>\n",
       "      <th>days_listed</th>\n",
       "    </tr>\n",
       "  </thead>\n",
       "  <tbody>\n",
       "    <tr>\n",
       "      <th>0</th>\n",
       "      <td>9400</td>\n",
       "      <td>2011.0</td>\n",
       "      <td>bmw x5</td>\n",
       "      <td>good</td>\n",
       "      <td>6.0</td>\n",
       "      <td>gas</td>\n",
       "      <td>145000.0</td>\n",
       "      <td>automatic</td>\n",
       "      <td>SUV</td>\n",
       "      <td>NaN</td>\n",
       "      <td>1.0</td>\n",
       "      <td>2018-06-23</td>\n",
       "      <td>19</td>\n",
       "    </tr>\n",
       "    <tr>\n",
       "      <th>1</th>\n",
       "      <td>25500</td>\n",
       "      <td>NaN</td>\n",
       "      <td>ford f-150</td>\n",
       "      <td>good</td>\n",
       "      <td>6.0</td>\n",
       "      <td>gas</td>\n",
       "      <td>88705.0</td>\n",
       "      <td>automatic</td>\n",
       "      <td>pickup</td>\n",
       "      <td>white</td>\n",
       "      <td>1.0</td>\n",
       "      <td>2018-10-19</td>\n",
       "      <td>50</td>\n",
       "    </tr>\n",
       "    <tr>\n",
       "      <th>2</th>\n",
       "      <td>5500</td>\n",
       "      <td>2013.0</td>\n",
       "      <td>hyundai sonata</td>\n",
       "      <td>like new</td>\n",
       "      <td>4.0</td>\n",
       "      <td>gas</td>\n",
       "      <td>110000.0</td>\n",
       "      <td>automatic</td>\n",
       "      <td>sedan</td>\n",
       "      <td>red</td>\n",
       "      <td>NaN</td>\n",
       "      <td>2019-02-07</td>\n",
       "      <td>79</td>\n",
       "    </tr>\n",
       "    <tr>\n",
       "      <th>3</th>\n",
       "      <td>1500</td>\n",
       "      <td>2003.0</td>\n",
       "      <td>ford f-150</td>\n",
       "      <td>fair</td>\n",
       "      <td>8.0</td>\n",
       "      <td>gas</td>\n",
       "      <td>NaN</td>\n",
       "      <td>automatic</td>\n",
       "      <td>pickup</td>\n",
       "      <td>NaN</td>\n",
       "      <td>NaN</td>\n",
       "      <td>2019-03-22</td>\n",
       "      <td>9</td>\n",
       "    </tr>\n",
       "    <tr>\n",
       "      <th>4</th>\n",
       "      <td>14900</td>\n",
       "      <td>2017.0</td>\n",
       "      <td>chrysler 200</td>\n",
       "      <td>excellent</td>\n",
       "      <td>4.0</td>\n",
       "      <td>gas</td>\n",
       "      <td>80903.0</td>\n",
       "      <td>automatic</td>\n",
       "      <td>sedan</td>\n",
       "      <td>black</td>\n",
       "      <td>NaN</td>\n",
       "      <td>2019-04-02</td>\n",
       "      <td>28</td>\n",
       "    </tr>\n",
       "  </tbody>\n",
       "</table>\n",
       "</div>"
      ],
      "text/plain": [
       "   price  model_year           model  condition  cylinders fuel  odometer  \\\n",
       "0   9400      2011.0          bmw x5       good        6.0  gas  145000.0   \n",
       "1  25500         NaN      ford f-150       good        6.0  gas   88705.0   \n",
       "2   5500      2013.0  hyundai sonata   like new        4.0  gas  110000.0   \n",
       "3   1500      2003.0      ford f-150       fair        8.0  gas       NaN   \n",
       "4  14900      2017.0    chrysler 200  excellent        4.0  gas   80903.0   \n",
       "\n",
       "  transmission    type paint_color  is_4wd date_posted  days_listed  \n",
       "0    automatic     SUV         NaN     1.0  2018-06-23           19  \n",
       "1    automatic  pickup       white     1.0  2018-10-19           50  \n",
       "2    automatic   sedan         red     NaN  2019-02-07           79  \n",
       "3    automatic  pickup         NaN     NaN  2019-03-22            9  \n",
       "4    automatic   sedan       black     NaN  2019-04-02           28  "
      ]
     },
     "execution_count": 1,
     "metadata": {},
     "output_type": "execute_result"
    }
   ],
   "source": [
    "import pandas as pd\n",
    "import matplotlib.pyplot as plt\n",
    "import seaborn as sns\n",
    "from scipy import stats\n",
    "%matplotlib inline\n",
    "\n",
    "data = pd.read_csv(\"vehicles_us.csv\")\n",
    "data.head()"
   ]
  },
  {
   "cell_type": "markdown",
   "metadata": {},
   "source": [
    "Studying general information and description of data"
   ]
  },
  {
   "cell_type": "code",
   "execution_count": 2,
   "metadata": {},
   "outputs": [
    {
     "name": "stdout",
     "output_type": "stream",
     "text": [
      "<class 'pandas.core.frame.DataFrame'>\n",
      "RangeIndex: 51525 entries, 0 to 51524\n",
      "Data columns (total 13 columns):\n",
      " #   Column        Non-Null Count  Dtype  \n",
      "---  ------        --------------  -----  \n",
      " 0   price         51525 non-null  int64  \n",
      " 1   model_year    47906 non-null  float64\n",
      " 2   model         51525 non-null  object \n",
      " 3   condition     51525 non-null  object \n",
      " 4   cylinders     46265 non-null  float64\n",
      " 5   fuel          51525 non-null  object \n",
      " 6   odometer      43633 non-null  float64\n",
      " 7   transmission  51525 non-null  object \n",
      " 8   type          51525 non-null  object \n",
      " 9   paint_color   42258 non-null  object \n",
      " 10  is_4wd        25572 non-null  float64\n",
      " 11  date_posted   51525 non-null  object \n",
      " 12  days_listed   51525 non-null  int64  \n",
      "dtypes: float64(4), int64(2), object(7)\n",
      "memory usage: 5.1+ MB\n"
     ]
    }
   ],
   "source": [
    "data.info()"
   ]
  },
  {
   "cell_type": "code",
   "execution_count": 3,
   "metadata": {},
   "outputs": [
    {
     "data": {
      "text/html": [
       "<div>\n",
       "<style scoped>\n",
       "    .dataframe tbody tr th:only-of-type {\n",
       "        vertical-align: middle;\n",
       "    }\n",
       "\n",
       "    .dataframe tbody tr th {\n",
       "        vertical-align: top;\n",
       "    }\n",
       "\n",
       "    .dataframe thead th {\n",
       "        text-align: right;\n",
       "    }\n",
       "</style>\n",
       "<table border=\"1\" class=\"dataframe\">\n",
       "  <thead>\n",
       "    <tr style=\"text-align: right;\">\n",
       "      <th></th>\n",
       "      <th>price</th>\n",
       "      <th>model_year</th>\n",
       "      <th>cylinders</th>\n",
       "      <th>odometer</th>\n",
       "      <th>is_4wd</th>\n",
       "      <th>days_listed</th>\n",
       "    </tr>\n",
       "  </thead>\n",
       "  <tbody>\n",
       "    <tr>\n",
       "      <th>count</th>\n",
       "      <td>51525.000000</td>\n",
       "      <td>47906.000000</td>\n",
       "      <td>46265.000000</td>\n",
       "      <td>43633.000000</td>\n",
       "      <td>25572.0</td>\n",
       "      <td>51525.00000</td>\n",
       "    </tr>\n",
       "    <tr>\n",
       "      <th>mean</th>\n",
       "      <td>12132.464920</td>\n",
       "      <td>2009.750470</td>\n",
       "      <td>6.125235</td>\n",
       "      <td>115553.461738</td>\n",
       "      <td>1.0</td>\n",
       "      <td>39.55476</td>\n",
       "    </tr>\n",
       "    <tr>\n",
       "      <th>std</th>\n",
       "      <td>10040.803015</td>\n",
       "      <td>6.282065</td>\n",
       "      <td>1.660360</td>\n",
       "      <td>65094.611341</td>\n",
       "      <td>0.0</td>\n",
       "      <td>28.20427</td>\n",
       "    </tr>\n",
       "    <tr>\n",
       "      <th>min</th>\n",
       "      <td>1.000000</td>\n",
       "      <td>1908.000000</td>\n",
       "      <td>3.000000</td>\n",
       "      <td>0.000000</td>\n",
       "      <td>1.0</td>\n",
       "      <td>0.00000</td>\n",
       "    </tr>\n",
       "    <tr>\n",
       "      <th>25%</th>\n",
       "      <td>5000.000000</td>\n",
       "      <td>2006.000000</td>\n",
       "      <td>4.000000</td>\n",
       "      <td>70000.000000</td>\n",
       "      <td>1.0</td>\n",
       "      <td>19.00000</td>\n",
       "    </tr>\n",
       "    <tr>\n",
       "      <th>50%</th>\n",
       "      <td>9000.000000</td>\n",
       "      <td>2011.000000</td>\n",
       "      <td>6.000000</td>\n",
       "      <td>113000.000000</td>\n",
       "      <td>1.0</td>\n",
       "      <td>33.00000</td>\n",
       "    </tr>\n",
       "    <tr>\n",
       "      <th>75%</th>\n",
       "      <td>16839.000000</td>\n",
       "      <td>2014.000000</td>\n",
       "      <td>8.000000</td>\n",
       "      <td>155000.000000</td>\n",
       "      <td>1.0</td>\n",
       "      <td>53.00000</td>\n",
       "    </tr>\n",
       "    <tr>\n",
       "      <th>max</th>\n",
       "      <td>375000.000000</td>\n",
       "      <td>2019.000000</td>\n",
       "      <td>12.000000</td>\n",
       "      <td>990000.000000</td>\n",
       "      <td>1.0</td>\n",
       "      <td>271.00000</td>\n",
       "    </tr>\n",
       "  </tbody>\n",
       "</table>\n",
       "</div>"
      ],
      "text/plain": [
       "               price    model_year     cylinders       odometer   is_4wd  \\\n",
       "count   51525.000000  47906.000000  46265.000000   43633.000000  25572.0   \n",
       "mean    12132.464920   2009.750470      6.125235  115553.461738      1.0   \n",
       "std     10040.803015      6.282065      1.660360   65094.611341      0.0   \n",
       "min         1.000000   1908.000000      3.000000       0.000000      1.0   \n",
       "25%      5000.000000   2006.000000      4.000000   70000.000000      1.0   \n",
       "50%      9000.000000   2011.000000      6.000000  113000.000000      1.0   \n",
       "75%     16839.000000   2014.000000      8.000000  155000.000000      1.0   \n",
       "max    375000.000000   2019.000000     12.000000  990000.000000      1.0   \n",
       "\n",
       "       days_listed  \n",
       "count  51525.00000  \n",
       "mean      39.55476  \n",
       "std       28.20427  \n",
       "min        0.00000  \n",
       "25%       19.00000  \n",
       "50%       33.00000  \n",
       "75%       53.00000  \n",
       "max      271.00000  "
      ]
     },
     "execution_count": 3,
     "metadata": {},
     "output_type": "execute_result"
    }
   ],
   "source": [
    "data.describe()"
   ]
  },
  {
   "cell_type": "markdown",
   "metadata": {},
   "source": [
    "- The general information shows there are missing values in five columns. Majority of the data type looks fine except 4 columns;  `model_year`,`is_4wd`, and `cylinders` should be integer type while `date_posted` should be a datetime data type.\n",
    "The `is_4wd` column is boolen represented by 0s and 1s. Hence, should be an interger.\n",
    "The `model_year` contains years and should be an interger.\n",
    "The number of cylinders in a vehicle follows a whole number pattern and should be an integer (to the best of my knowledge, there are no 1.5, 2.4 etc. number of cylinders).\n",
    "`date_posted` is a date and should have a datetime format.\n",
    "\n",
    "- The data description shows some of the quantitative data has its mean closer to the minimum than to the maximum. Some means are greater or differs from the median; potential existence of outliers in the data.\n"
   ]
  },
  {
   "cell_type": "markdown",
   "metadata": {},
   "source": [
    "## Step 2. Data preprocessing"
   ]
  },
  {
   "cell_type": "markdown",
   "metadata": {},
   "source": [
    "###  Investigating missing values"
   ]
  },
  {
   "cell_type": "code",
   "execution_count": 4,
   "metadata": {},
   "outputs": [
    {
     "data": {
      "text/plain": [
       "price               0\n",
       "model_year       3619\n",
       "model               0\n",
       "condition           0\n",
       "cylinders        5260\n",
       "fuel                0\n",
       "odometer         7892\n",
       "transmission        0\n",
       "type                0\n",
       "paint_color      9267\n",
       "is_4wd          25953\n",
       "date_posted         0\n",
       "days_listed         0\n",
       "dtype: int64"
      ]
     },
     "execution_count": 4,
     "metadata": {},
     "output_type": "execute_result"
    }
   ],
   "source": [
    "data.isnull().sum()"
   ]
  },
  {
   "cell_type": "markdown",
   "metadata": {},
   "source": [
    "**Considering the `is_4wd` column**\n",
    "\n",
    "`is_4wd` column shows whether the vehicle has 4-wheel drive or not (Boolean type). Checking to see if they are zeros and ones"
   ]
  },
  {
   "cell_type": "code",
   "execution_count": 5,
   "metadata": {},
   "outputs": [
    {
     "data": {
      "text/plain": [
       "array([ 1., nan])"
      ]
     },
     "execution_count": 5,
     "metadata": {},
     "output_type": "execute_result"
    }
   ],
   "source": [
    "data[\"is_4wd\"].unique()"
   ]
  },
  {
   "cell_type": "markdown",
   "metadata": {},
   "source": [
    "It is obvious that the missing values are zeros. Hence, the need to fill missing values in `is_4wd` with 0s"
   ]
  },
  {
   "cell_type": "code",
   "execution_count": 6,
   "metadata": {},
   "outputs": [
    {
     "data": {
      "text/plain": [
       "array([1., 0.])"
      ]
     },
     "execution_count": 6,
     "metadata": {},
     "output_type": "execute_result"
    }
   ],
   "source": [
    "data[\"is_4wd\"]=data[\"is_4wd\"].fillna(0)\n",
    "data[\"is_4wd\"].unique()"
   ]
  },
  {
   "cell_type": "markdown",
   "metadata": {},
   "source": [
    "**Considering the `Paint_color` column**"
   ]
  },
  {
   "cell_type": "markdown",
   "metadata": {},
   "source": [
    "Checking unique values and frequencies"
   ]
  },
  {
   "cell_type": "code",
   "execution_count": 7,
   "metadata": {},
   "outputs": [
    {
     "data": {
      "text/plain": [
       "white     10029\n",
       "black      7692\n",
       "silver     6244\n",
       "grey       5037\n",
       "blue       4475\n",
       "red        4421\n",
       "green      1396\n",
       "brown      1223\n",
       "custom     1153\n",
       "yellow      255\n",
       "orange      231\n",
       "purple      102\n",
       "Name: paint_color, dtype: int64"
      ]
     },
     "execution_count": 7,
     "metadata": {},
     "output_type": "execute_result"
    }
   ],
   "source": [
    "data[\"paint_color\"].value_counts()"
   ]
  },
  {
   "cell_type": "markdown",
   "metadata": {},
   "source": [
    "It is not obvious why this column has missing values. Hence, the need to investigate other columns to see if there is a trend. The `type` ,`model`, and `transmision` columns would be investigated for missing values"
   ]
  },
  {
   "cell_type": "code",
   "execution_count": 8,
   "metadata": {},
   "outputs": [
    {
     "data": {
      "text/plain": [
       "SUV            2236\n",
       "sedan          2189\n",
       "truck          2135\n",
       "pickup         1327\n",
       "coupe           406\n",
       "wagon           268\n",
       "hatchback       213\n",
       "mini-van        202\n",
       "van             130\n",
       "convertible      75\n",
       "other            45\n",
       "offroad          36\n",
       "bus               5\n",
       "Name: type, dtype: int64"
      ]
     },
     "execution_count": 8,
     "metadata": {},
     "output_type": "execute_result"
    }
   ],
   "source": [
    "data[data['paint_color'].isnull()]['type'].value_counts()"
   ]
  },
  {
   "cell_type": "code",
   "execution_count": 9,
   "metadata": {},
   "outputs": [
    {
     "data": {
      "text/plain": [
       "ford f-150                    476\n",
       "chevrolet silverado 1500      390\n",
       "ram 1500                      334\n",
       "jeep wrangler                 235\n",
       "chevrolet silverado           212\n",
       "ram 2500                      181\n",
       "toyota camry                  174\n",
       "chevrolet silverado 2500hd    164\n",
       "honda accord                  161\n",
       "ford focus                    157\n",
       "Name: model, dtype: int64"
      ]
     },
     "execution_count": 9,
     "metadata": {},
     "output_type": "execute_result"
    }
   ],
   "source": [
    "data[data['paint_color'].isnull()]['model'].value_counts()[0:10]"
   ]
  },
  {
   "cell_type": "code",
   "execution_count": 10,
   "metadata": {},
   "outputs": [
    {
     "data": {
      "text/plain": [
       "automatic    8403\n",
       "manual        514\n",
       "other         350\n",
       "Name: transmission, dtype: int64"
      ]
     },
     "execution_count": 10,
     "metadata": {},
     "output_type": "execute_result"
    }
   ],
   "source": [
    "data[data['paint_color'].isnull()]['transmission'].value_counts()"
   ]
  },
  {
   "cell_type": "markdown",
   "metadata": {},
   "source": [
    "Automatic cars contain about 90% of cars with missing paint color. However, this does not give a hint to the type of colour missing. Are automatic cars not painted?"
   ]
  },
  {
   "cell_type": "code",
   "execution_count": 11,
   "metadata": {},
   "outputs": [
    {
     "data": {
      "text/plain": [
       "automatic    46902\n",
       "manual        2829\n",
       "other         1794\n",
       "Name: transmission, dtype: int64"
      ]
     },
     "execution_count": 11,
     "metadata": {},
     "output_type": "execute_result"
    }
   ],
   "source": [
    "data[\"transmission\"].value_counts()"
   ]
  },
  {
   "cell_type": "markdown",
   "metadata": {},
   "source": [
    "Looking at the value counts, it appears the proportionate of automatic cars with no paint to tatal number of automatic cars is not significantly different from other transmissions.\n",
    "Condering the `type`, and model of cars, the missing values are spread out and do not have pattern. \n",
    "There is no obvious pattern in the missings values. Hence, I will not fill."
   ]
  },
  {
   "cell_type": "markdown",
   "metadata": {},
   "source": [
    "**Considering the `odometer` column**\n",
    "\n",
    "The first question that comes to mind considering a zero or missing odometer is whether the condition of the car is new. Hence, the `condition` column would be investigated if new cars account for missing values. From the summation of missing values, missing values in the `model_year` column is far less than the missing values in `odometer`. However, all the missing values in `model_year` could account for missing values in `odomoter`. Is it also the case that some car types or models are excluding odomoter from their advertisement?"
   ]
  },
  {
   "cell_type": "code",
   "execution_count": 12,
   "metadata": {},
   "outputs": [
    {
     "data": {
      "text/html": [
       "<div>\n",
       "<style scoped>\n",
       "    .dataframe tbody tr th:only-of-type {\n",
       "        vertical-align: middle;\n",
       "    }\n",
       "\n",
       "    .dataframe tbody tr th {\n",
       "        vertical-align: top;\n",
       "    }\n",
       "\n",
       "    .dataframe thead th {\n",
       "        text-align: right;\n",
       "    }\n",
       "</style>\n",
       "<table border=\"1\" class=\"dataframe\">\n",
       "  <thead>\n",
       "    <tr style=\"text-align: right;\">\n",
       "      <th></th>\n",
       "      <th>price</th>\n",
       "      <th>model_year</th>\n",
       "      <th>model</th>\n",
       "      <th>condition</th>\n",
       "      <th>cylinders</th>\n",
       "      <th>fuel</th>\n",
       "      <th>odometer</th>\n",
       "      <th>transmission</th>\n",
       "      <th>type</th>\n",
       "      <th>paint_color</th>\n",
       "      <th>is_4wd</th>\n",
       "      <th>date_posted</th>\n",
       "      <th>days_listed</th>\n",
       "    </tr>\n",
       "  </thead>\n",
       "  <tbody>\n",
       "    <tr>\n",
       "      <th>159</th>\n",
       "      <td>23300</td>\n",
       "      <td>NaN</td>\n",
       "      <td>nissan frontier crew cab sv</td>\n",
       "      <td>good</td>\n",
       "      <td>NaN</td>\n",
       "      <td>gas</td>\n",
       "      <td>NaN</td>\n",
       "      <td>other</td>\n",
       "      <td>pickup</td>\n",
       "      <td>grey</td>\n",
       "      <td>1.0</td>\n",
       "      <td>2018-07-24</td>\n",
       "      <td>73</td>\n",
       "    </tr>\n",
       "    <tr>\n",
       "      <th>260</th>\n",
       "      <td>14975</td>\n",
       "      <td>NaN</td>\n",
       "      <td>toyota 4runner</td>\n",
       "      <td>good</td>\n",
       "      <td>6.0</td>\n",
       "      <td>gas</td>\n",
       "      <td>NaN</td>\n",
       "      <td>automatic</td>\n",
       "      <td>SUV</td>\n",
       "      <td>silver</td>\n",
       "      <td>0.0</td>\n",
       "      <td>2018-05-13</td>\n",
       "      <td>57</td>\n",
       "    </tr>\n",
       "    <tr>\n",
       "      <th>370</th>\n",
       "      <td>4700</td>\n",
       "      <td>NaN</td>\n",
       "      <td>kia soul</td>\n",
       "      <td>good</td>\n",
       "      <td>NaN</td>\n",
       "      <td>gas</td>\n",
       "      <td>NaN</td>\n",
       "      <td>manual</td>\n",
       "      <td>sedan</td>\n",
       "      <td>white</td>\n",
       "      <td>0.0</td>\n",
       "      <td>2019-01-14</td>\n",
       "      <td>50</td>\n",
       "    </tr>\n",
       "    <tr>\n",
       "      <th>586</th>\n",
       "      <td>26000</td>\n",
       "      <td>NaN</td>\n",
       "      <td>toyota rav4</td>\n",
       "      <td>like new</td>\n",
       "      <td>4.0</td>\n",
       "      <td>gas</td>\n",
       "      <td>NaN</td>\n",
       "      <td>automatic</td>\n",
       "      <td>SUV</td>\n",
       "      <td>NaN</td>\n",
       "      <td>0.0</td>\n",
       "      <td>2018-08-09</td>\n",
       "      <td>29</td>\n",
       "    </tr>\n",
       "    <tr>\n",
       "      <th>659</th>\n",
       "      <td>8400</td>\n",
       "      <td>NaN</td>\n",
       "      <td>volkswagen jetta</td>\n",
       "      <td>good</td>\n",
       "      <td>4.0</td>\n",
       "      <td>diesel</td>\n",
       "      <td>NaN</td>\n",
       "      <td>manual</td>\n",
       "      <td>wagon</td>\n",
       "      <td>NaN</td>\n",
       "      <td>0.0</td>\n",
       "      <td>2018-10-22</td>\n",
       "      <td>37</td>\n",
       "    </tr>\n",
       "  </tbody>\n",
       "</table>\n",
       "</div>"
      ],
      "text/plain": [
       "     price  model_year                        model condition  cylinders  \\\n",
       "159  23300         NaN  nissan frontier crew cab sv      good        NaN   \n",
       "260  14975         NaN               toyota 4runner      good        6.0   \n",
       "370   4700         NaN                     kia soul      good        NaN   \n",
       "586  26000         NaN                  toyota rav4  like new        4.0   \n",
       "659   8400         NaN             volkswagen jetta      good        4.0   \n",
       "\n",
       "       fuel  odometer transmission    type paint_color  is_4wd date_posted  \\\n",
       "159     gas       NaN        other  pickup        grey     1.0  2018-07-24   \n",
       "260     gas       NaN    automatic     SUV      silver     0.0  2018-05-13   \n",
       "370     gas       NaN       manual   sedan       white     0.0  2019-01-14   \n",
       "586     gas       NaN    automatic     SUV         NaN     0.0  2018-08-09   \n",
       "659  diesel       NaN       manual   wagon         NaN     0.0  2018-10-22   \n",
       "\n",
       "     days_listed  \n",
       "159           73  \n",
       "260           57  \n",
       "370           50  \n",
       "586           29  \n",
       "659           37  "
      ]
     },
     "metadata": {},
     "output_type": "display_data"
    },
    {
     "name": "stdout",
     "output_type": "stream",
     "text": [
      "Total missing values in odometer and model year is: 549\n"
     ]
    }
   ],
   "source": [
    "display(data[(data['odometer'].isnull())& (data['model_year'].isnull())].head())\n",
    "\n",
    "print(\"Total missing values in odometer and model year is:\",data[(data['odometer'].isnull())& (data['model_year'].isnull())].shape[0])"
   ]
  },
  {
   "cell_type": "code",
   "execution_count": 13,
   "metadata": {},
   "outputs": [
    {
     "data": {
      "text/plain": [
       "excellent    3800\n",
       "good         3092\n",
       "like new      728\n",
       "fair          237\n",
       "new            18\n",
       "salvage        17\n",
       "Name: condition, dtype: int64"
      ]
     },
     "execution_count": 13,
     "metadata": {},
     "output_type": "execute_result"
    }
   ],
   "source": [
    "data[data['odometer'].isnull()]['condition'].value_counts()"
   ]
  },
  {
   "cell_type": "code",
   "execution_count": 14,
   "metadata": {},
   "outputs": [
    {
     "data": {
      "text/plain": [
       "sedan          1901\n",
       "SUV            1894\n",
       "truck          1859\n",
       "pickup         1093\n",
       "coupe           340\n",
       "wagon           234\n",
       "mini-van        166\n",
       "hatchback       139\n",
       "van             138\n",
       "convertible      67\n",
       "other            33\n",
       "offroad          27\n",
       "bus               1\n",
       "Name: type, dtype: int64"
      ]
     },
     "execution_count": 14,
     "metadata": {},
     "output_type": "execute_result"
    }
   ],
   "source": [
    "data[data['odometer'].isnull()]['type'].value_counts()"
   ]
  },
  {
   "cell_type": "code",
   "execution_count": 15,
   "metadata": {},
   "outputs": [
    {
     "data": {
      "text/plain": [
       "ford f-150                  419\n",
       "chevrolet silverado 1500    322\n",
       "ram 1500                    279\n",
       "chevrolet silverado         192\n",
       "ram 2500                    181\n",
       "                           ... \n",
       "jeep cherokee                34\n",
       "ford f350                    33\n",
       "nissan murano                32\n",
       "ford f350 super duty         29\n",
       "dodge dakota                 26\n",
       "Name: model, Length: 100, dtype: int64"
      ]
     },
     "execution_count": 15,
     "metadata": {},
     "output_type": "execute_result"
    }
   ],
   "source": [
    "data[data['odometer'].isnull()]['model'].value_counts()"
   ]
  },
  {
   "cell_type": "markdown",
   "metadata": {},
   "source": [
    "Like `paint_color`, there is no clear pattern of missing values in `odometer`. However, unlike paint color, every car is expected to have a mileage unless it is brand new. In dealing with missing values, one could argue to fill missing values group by mean/median of model year or the condition of the car, but different types of models having the same model year or condition could have far different odometers as some cars have higher mileage than others. Therefore, I would fill missing values of the odometer column grouped by median (due to potential outliers in data) of models. This would give a good reflection of specific models and their attributed mileage. "
   ]
  },
  {
   "cell_type": "code",
   "execution_count": 16,
   "metadata": {},
   "outputs": [
    {
     "data": {
      "text/plain": [
       "41"
      ]
     },
     "execution_count": 16,
     "metadata": {},
     "output_type": "execute_result"
    }
   ],
   "source": [
    "data[\"odometer\"] = data[\"odometer\"].fillna(round(data.groupby(\"model\")[\"odometer\"].transform(\"median\"),0))\n",
    "data[\"odometer\"].isnull().sum()"
   ]
  },
  {
   "cell_type": "markdown",
   "metadata": {},
   "source": [
    "Investigating why there are still missing values in `odometer`"
   ]
  },
  {
   "cell_type": "code",
   "execution_count": 17,
   "metadata": {},
   "outputs": [
    {
     "data": {
      "text/html": [
       "<div>\n",
       "<style scoped>\n",
       "    .dataframe tbody tr th:only-of-type {\n",
       "        vertical-align: middle;\n",
       "    }\n",
       "\n",
       "    .dataframe tbody tr th {\n",
       "        vertical-align: top;\n",
       "    }\n",
       "\n",
       "    .dataframe thead th {\n",
       "        text-align: right;\n",
       "    }\n",
       "</style>\n",
       "<table border=\"1\" class=\"dataframe\">\n",
       "  <thead>\n",
       "    <tr style=\"text-align: right;\">\n",
       "      <th></th>\n",
       "      <th>price</th>\n",
       "      <th>model_year</th>\n",
       "      <th>model</th>\n",
       "      <th>condition</th>\n",
       "      <th>cylinders</th>\n",
       "      <th>fuel</th>\n",
       "      <th>odometer</th>\n",
       "      <th>transmission</th>\n",
       "      <th>type</th>\n",
       "      <th>paint_color</th>\n",
       "      <th>is_4wd</th>\n",
       "      <th>date_posted</th>\n",
       "      <th>days_listed</th>\n",
       "    </tr>\n",
       "  </thead>\n",
       "  <tbody>\n",
       "    <tr>\n",
       "      <th>42</th>\n",
       "      <td>34900</td>\n",
       "      <td>2013.0</td>\n",
       "      <td>mercedes-benz benze sprinter 2500</td>\n",
       "      <td>excellent</td>\n",
       "      <td>6.0</td>\n",
       "      <td>diesel</td>\n",
       "      <td>NaN</td>\n",
       "      <td>automatic</td>\n",
       "      <td>van</td>\n",
       "      <td>black</td>\n",
       "      <td>0.0</td>\n",
       "      <td>2019-01-15</td>\n",
       "      <td>16</td>\n",
       "    </tr>\n",
       "    <tr>\n",
       "      <th>1642</th>\n",
       "      <td>34900</td>\n",
       "      <td>2013.0</td>\n",
       "      <td>mercedes-benz benze sprinter 2500</td>\n",
       "      <td>excellent</td>\n",
       "      <td>6.0</td>\n",
       "      <td>diesel</td>\n",
       "      <td>NaN</td>\n",
       "      <td>automatic</td>\n",
       "      <td>van</td>\n",
       "      <td>black</td>\n",
       "      <td>0.0</td>\n",
       "      <td>2018-12-04</td>\n",
       "      <td>36</td>\n",
       "    </tr>\n",
       "    <tr>\n",
       "      <th>2232</th>\n",
       "      <td>34900</td>\n",
       "      <td>2013.0</td>\n",
       "      <td>mercedes-benz benze sprinter 2500</td>\n",
       "      <td>excellent</td>\n",
       "      <td>6.0</td>\n",
       "      <td>diesel</td>\n",
       "      <td>NaN</td>\n",
       "      <td>automatic</td>\n",
       "      <td>van</td>\n",
       "      <td>black</td>\n",
       "      <td>0.0</td>\n",
       "      <td>2018-08-23</td>\n",
       "      <td>70</td>\n",
       "    </tr>\n",
       "    <tr>\n",
       "      <th>2731</th>\n",
       "      <td>34900</td>\n",
       "      <td>2013.0</td>\n",
       "      <td>mercedes-benz benze sprinter 2500</td>\n",
       "      <td>excellent</td>\n",
       "      <td>6.0</td>\n",
       "      <td>diesel</td>\n",
       "      <td>NaN</td>\n",
       "      <td>automatic</td>\n",
       "      <td>van</td>\n",
       "      <td>black</td>\n",
       "      <td>0.0</td>\n",
       "      <td>2019-04-12</td>\n",
       "      <td>31</td>\n",
       "    </tr>\n",
       "    <tr>\n",
       "      <th>4149</th>\n",
       "      <td>34900</td>\n",
       "      <td>NaN</td>\n",
       "      <td>mercedes-benz benze sprinter 2500</td>\n",
       "      <td>excellent</td>\n",
       "      <td>6.0</td>\n",
       "      <td>diesel</td>\n",
       "      <td>NaN</td>\n",
       "      <td>automatic</td>\n",
       "      <td>van</td>\n",
       "      <td>black</td>\n",
       "      <td>0.0</td>\n",
       "      <td>2018-10-12</td>\n",
       "      <td>28</td>\n",
       "    </tr>\n",
       "  </tbody>\n",
       "</table>\n",
       "</div>"
      ],
      "text/plain": [
       "      price  model_year                              model  condition  \\\n",
       "42    34900      2013.0  mercedes-benz benze sprinter 2500  excellent   \n",
       "1642  34900      2013.0  mercedes-benz benze sprinter 2500  excellent   \n",
       "2232  34900      2013.0  mercedes-benz benze sprinter 2500  excellent   \n",
       "2731  34900      2013.0  mercedes-benz benze sprinter 2500  excellent   \n",
       "4149  34900         NaN  mercedes-benz benze sprinter 2500  excellent   \n",
       "\n",
       "      cylinders    fuel  odometer transmission type paint_color  is_4wd  \\\n",
       "42          6.0  diesel       NaN    automatic  van       black     0.0   \n",
       "1642        6.0  diesel       NaN    automatic  van       black     0.0   \n",
       "2232        6.0  diesel       NaN    automatic  van       black     0.0   \n",
       "2731        6.0  diesel       NaN    automatic  van       black     0.0   \n",
       "4149        6.0  diesel       NaN    automatic  van       black     0.0   \n",
       "\n",
       "     date_posted  days_listed  \n",
       "42    2019-01-15           16  \n",
       "1642  2018-12-04           36  \n",
       "2232  2018-08-23           70  \n",
       "2731  2019-04-12           31  \n",
       "4149  2018-10-12           28  "
      ]
     },
     "execution_count": 17,
     "metadata": {},
     "output_type": "execute_result"
    }
   ],
   "source": [
    "data[data[\"odometer\"].isnull()].head()"
   ]
  },
  {
   "cell_type": "markdown",
   "metadata": {},
   "source": [
    "It apppears the model type `mercedes-benz benze sprinter 2500` do not have a single odometer value. Hence, it accounts for the 41 missing values. Let's confirm"
   ]
  },
  {
   "cell_type": "code",
   "execution_count": 18,
   "metadata": {},
   "outputs": [
    {
     "data": {
      "text/plain": [
       "41"
      ]
     },
     "execution_count": 18,
     "metadata": {},
     "output_type": "execute_result"
    }
   ],
   "source": [
    "data.query('model ==\"mercedes-benz benze sprinter 2500\"').shape[0]"
   ]
  },
  {
   "cell_type": "markdown",
   "metadata": {},
   "source": [
    "Since there is no value for this model, it is not feasible to assume any value. Hence, I would drop this model"
   ]
  },
  {
   "cell_type": "code",
   "execution_count": 19,
   "metadata": {},
   "outputs": [
    {
     "data": {
      "text/plain": [
       "0"
      ]
     },
     "execution_count": 19,
     "metadata": {},
     "output_type": "execute_result"
    }
   ],
   "source": [
    "data.drop(data[data['model'] ==\"mercedes-benz benze sprinter 2500\"].index, inplace=True)\n",
    "data[\"odometer\"].isnull().sum()"
   ]
  },
  {
   "cell_type": "markdown",
   "metadata": {},
   "source": [
    "Checking if there are cars with 0 odometer "
   ]
  },
  {
   "cell_type": "code",
   "execution_count": 20,
   "metadata": {},
   "outputs": [
    {
     "data": {
      "text/plain": [
       "185"
      ]
     },
     "execution_count": 20,
     "metadata": {},
     "output_type": "execute_result"
    }
   ],
   "source": [
    "data[data[\"odometer\"]==0].shape[0]"
   ]
  },
  {
   "cell_type": "markdown",
   "metadata": {},
   "source": [
    "Are these cars new?"
   ]
  },
  {
   "cell_type": "code",
   "execution_count": 21,
   "metadata": {},
   "outputs": [
    {
     "data": {
      "text/html": [
       "<div>\n",
       "<style scoped>\n",
       "    .dataframe tbody tr th:only-of-type {\n",
       "        vertical-align: middle;\n",
       "    }\n",
       "\n",
       "    .dataframe tbody tr th {\n",
       "        vertical-align: top;\n",
       "    }\n",
       "\n",
       "    .dataframe thead th {\n",
       "        text-align: right;\n",
       "    }\n",
       "</style>\n",
       "<table border=\"1\" class=\"dataframe\">\n",
       "  <thead>\n",
       "    <tr style=\"text-align: right;\">\n",
       "      <th></th>\n",
       "      <th>price</th>\n",
       "      <th>model_year</th>\n",
       "      <th>model</th>\n",
       "      <th>condition</th>\n",
       "      <th>cylinders</th>\n",
       "      <th>fuel</th>\n",
       "      <th>odometer</th>\n",
       "      <th>transmission</th>\n",
       "      <th>type</th>\n",
       "      <th>paint_color</th>\n",
       "      <th>is_4wd</th>\n",
       "      <th>date_posted</th>\n",
       "      <th>days_listed</th>\n",
       "    </tr>\n",
       "  </thead>\n",
       "  <tbody>\n",
       "  </tbody>\n",
       "</table>\n",
       "</div>"
      ],
      "text/plain": [
       "Empty DataFrame\n",
       "Columns: [price, model_year, model, condition, cylinders, fuel, odometer, transmission, type, paint_color, is_4wd, date_posted, days_listed]\n",
       "Index: []"
      ]
     },
     "execution_count": 21,
     "metadata": {},
     "output_type": "execute_result"
    }
   ],
   "source": [
    "data[(data[\"odometer\"]==0) & (data[\"condition\"]==\"new\")]"
   ]
  },
  {
   "cell_type": "markdown",
   "metadata": {},
   "source": [
    "Since the cars with 0 mileage are not new, I have to drop them as every used car should have a mileage"
   ]
  },
  {
   "cell_type": "code",
   "execution_count": 22,
   "metadata": {},
   "outputs": [
    {
     "data": {
      "text/plain": [
       "51299"
      ]
     },
     "execution_count": 22,
     "metadata": {},
     "output_type": "execute_result"
    }
   ],
   "source": [
    "data.drop(data[data[\"odometer\"]==0].index,inplace=True)\n",
    "data.shape[0]"
   ]
  },
  {
   "cell_type": "markdown",
   "metadata": {},
   "source": [
    "**Considering the `model_year` column**\n",
    "\n",
    "Are some car types or  models not reporting their model year?"
   ]
  },
  {
   "cell_type": "code",
   "execution_count": 23,
   "metadata": {},
   "outputs": [
    {
     "data": {
      "text/plain": [
       "SUV            915\n",
       "sedan          843\n",
       "truck          833\n",
       "pickup         504\n",
       "coupe          145\n",
       "wagon          109\n",
       "mini-van        86\n",
       "hatchback       73\n",
       "van             32\n",
       "convertible     27\n",
       "other           22\n",
       "offroad         10\n",
       "Name: type, dtype: int64"
      ]
     },
     "execution_count": 23,
     "metadata": {},
     "output_type": "execute_result"
    }
   ],
   "source": [
    "data[data['model_year'].isnull()]['type'].value_counts()"
   ]
  },
  {
   "cell_type": "code",
   "execution_count": 24,
   "metadata": {},
   "outputs": [
    {
     "data": {
      "text/plain": [
       "ford f-150                  191\n",
       "chevrolet silverado 1500    153\n",
       "ram 1500                    117\n",
       "chevrolet silverado          98\n",
       "honda accord                 80\n",
       "                           ... \n",
       "buick enclave                14\n",
       "kia sorento                  14\n",
       "hyundai santa fe             13\n",
       "acura tl                     12\n",
       "honda civic lx               11\n",
       "Name: model, Length: 99, dtype: int64"
      ]
     },
     "execution_count": 24,
     "metadata": {},
     "output_type": "execute_result"
    }
   ],
   "source": [
    "data[data['model_year'].isnull()]['model'].value_counts()"
   ]
  },
  {
   "cell_type": "markdown",
   "metadata": {},
   "source": [
    "Missing values in model year are spread out. \n",
    "I would fill missing values in the model year column grouped by median of models."
   ]
  },
  {
   "cell_type": "code",
   "execution_count": 25,
   "metadata": {},
   "outputs": [],
   "source": [
    "data[\"model_year\"] = data[\"model_year\"].fillna(round(data.groupby(\"model\")[\"model_year\"].transform(\"median\"),0))"
   ]
  },
  {
   "cell_type": "markdown",
   "metadata": {},
   "source": [
    "The data description showed the earliest year a car was producded was in 1908. According to literature, this should be Ford Model T. Let's confirm the year and investigate."
   ]
  },
  {
   "cell_type": "code",
   "execution_count": 26,
   "metadata": {},
   "outputs": [
    {
     "data": {
      "text/plain": [
       "1908.0"
      ]
     },
     "execution_count": 26,
     "metadata": {},
     "output_type": "execute_result"
    }
   ],
   "source": [
    "data[\"model_year\"].min()"
   ]
  },
  {
   "cell_type": "code",
   "execution_count": 27,
   "metadata": {},
   "outputs": [
    {
     "data": {
      "text/html": [
       "<div>\n",
       "<style scoped>\n",
       "    .dataframe tbody tr th:only-of-type {\n",
       "        vertical-align: middle;\n",
       "    }\n",
       "\n",
       "    .dataframe tbody tr th {\n",
       "        vertical-align: top;\n",
       "    }\n",
       "\n",
       "    .dataframe thead th {\n",
       "        text-align: right;\n",
       "    }\n",
       "</style>\n",
       "<table border=\"1\" class=\"dataframe\">\n",
       "  <thead>\n",
       "    <tr style=\"text-align: right;\">\n",
       "      <th></th>\n",
       "      <th>price</th>\n",
       "      <th>model_year</th>\n",
       "      <th>model</th>\n",
       "      <th>condition</th>\n",
       "      <th>cylinders</th>\n",
       "      <th>fuel</th>\n",
       "      <th>odometer</th>\n",
       "      <th>transmission</th>\n",
       "      <th>type</th>\n",
       "      <th>paint_color</th>\n",
       "      <th>is_4wd</th>\n",
       "      <th>date_posted</th>\n",
       "      <th>days_listed</th>\n",
       "    </tr>\n",
       "  </thead>\n",
       "  <tbody>\n",
       "    <tr>\n",
       "      <th>33906</th>\n",
       "      <td>12995</td>\n",
       "      <td>1908.0</td>\n",
       "      <td>gmc yukon</td>\n",
       "      <td>good</td>\n",
       "      <td>8.0</td>\n",
       "      <td>gas</td>\n",
       "      <td>169328.0</td>\n",
       "      <td>automatic</td>\n",
       "      <td>SUV</td>\n",
       "      <td>black</td>\n",
       "      <td>0.0</td>\n",
       "      <td>2018-07-06</td>\n",
       "      <td>34</td>\n",
       "    </tr>\n",
       "    <tr>\n",
       "      <th>33907</th>\n",
       "      <td>12995</td>\n",
       "      <td>1908.0</td>\n",
       "      <td>cadillac escalade</td>\n",
       "      <td>excellent</td>\n",
       "      <td>8.0</td>\n",
       "      <td>gas</td>\n",
       "      <td>129176.0</td>\n",
       "      <td>automatic</td>\n",
       "      <td>SUV</td>\n",
       "      <td>white</td>\n",
       "      <td>0.0</td>\n",
       "      <td>2018-06-24</td>\n",
       "      <td>25</td>\n",
       "    </tr>\n",
       "  </tbody>\n",
       "</table>\n",
       "</div>"
      ],
      "text/plain": [
       "       price  model_year              model  condition  cylinders fuel  \\\n",
       "33906  12995      1908.0          gmc yukon       good        8.0  gas   \n",
       "33907  12995      1908.0  cadillac escalade  excellent        8.0  gas   \n",
       "\n",
       "       odometer transmission type paint_color  is_4wd date_posted  days_listed  \n",
       "33906  169328.0    automatic  SUV       black     0.0  2018-07-06           34  \n",
       "33907  129176.0    automatic  SUV       white     0.0  2018-06-24           25  "
      ]
     },
     "execution_count": 27,
     "metadata": {},
     "output_type": "execute_result"
    }
   ],
   "source": [
    "data[data[\"model_year\"]==1908.0]"
   ]
  },
  {
   "cell_type": "markdown",
   "metadata": {},
   "source": [
    "The output showed different models. `gmc yukon` car model was first released in 1991 while `cadillac escalade` was released in 1999. Also, the first automatic transmission in a production car was GM's Hydramatic, introduced in 1939. Hence, the two records are not accurate. Thus, I would drop them.   "
   ]
  },
  {
   "cell_type": "code",
   "execution_count": 28,
   "metadata": {},
   "outputs": [],
   "source": [
    "data.drop(data[data[\"model_year\"]==1908.0].index, inplace=True)"
   ]
  },
  {
   "cell_type": "markdown",
   "metadata": {},
   "source": [
    "**Considering the `cylinders` column**\n",
    "\n",
    "It is only electric cars that do not have cylinders. There is the need to investigate if they account for missing values. Again, are there some specific car types and models that are not reporting their number of cylinders in the adds?"
   ]
  },
  {
   "cell_type": "code",
   "execution_count": 29,
   "metadata": {},
   "outputs": [
    {
     "data": {
      "text/html": [
       "<div>\n",
       "<style scoped>\n",
       "    .dataframe tbody tr th:only-of-type {\n",
       "        vertical-align: middle;\n",
       "    }\n",
       "\n",
       "    .dataframe tbody tr th {\n",
       "        vertical-align: top;\n",
       "    }\n",
       "\n",
       "    .dataframe thead th {\n",
       "        text-align: right;\n",
       "    }\n",
       "</style>\n",
       "<table border=\"1\" class=\"dataframe\">\n",
       "  <thead>\n",
       "    <tr style=\"text-align: right;\">\n",
       "      <th></th>\n",
       "      <th>price</th>\n",
       "      <th>model_year</th>\n",
       "      <th>model</th>\n",
       "      <th>condition</th>\n",
       "      <th>cylinders</th>\n",
       "      <th>fuel</th>\n",
       "      <th>odometer</th>\n",
       "      <th>transmission</th>\n",
       "      <th>type</th>\n",
       "      <th>paint_color</th>\n",
       "      <th>is_4wd</th>\n",
       "      <th>date_posted</th>\n",
       "      <th>days_listed</th>\n",
       "    </tr>\n",
       "  </thead>\n",
       "  <tbody>\n",
       "  </tbody>\n",
       "</table>\n",
       "</div>"
      ],
      "text/plain": [
       "Empty DataFrame\n",
       "Columns: [price, model_year, model, condition, cylinders, fuel, odometer, transmission, type, paint_color, is_4wd, date_posted, days_listed]\n",
       "Index: []"
      ]
     },
     "execution_count": 29,
     "metadata": {},
     "output_type": "execute_result"
    }
   ],
   "source": [
    "data[(data[\"cylinders\"]==0) & (data[\"fuel\"]==\"electric\")]"
   ]
  },
  {
   "cell_type": "markdown",
   "metadata": {},
   "source": [
    "The output shows there is none electric fuel car with zero cylinder. However, an electric fuel car must have zero cylinder. Hence, I would replace electric fuel vehicles with zero cylinder"
   ]
  },
  {
   "cell_type": "code",
   "execution_count": 30,
   "metadata": {},
   "outputs": [
    {
     "data": {
      "text/html": [
       "<div>\n",
       "<style scoped>\n",
       "    .dataframe tbody tr th:only-of-type {\n",
       "        vertical-align: middle;\n",
       "    }\n",
       "\n",
       "    .dataframe tbody tr th {\n",
       "        vertical-align: top;\n",
       "    }\n",
       "\n",
       "    .dataframe thead th {\n",
       "        text-align: right;\n",
       "    }\n",
       "</style>\n",
       "<table border=\"1\" class=\"dataframe\">\n",
       "  <thead>\n",
       "    <tr style=\"text-align: right;\">\n",
       "      <th></th>\n",
       "      <th>price</th>\n",
       "      <th>model_year</th>\n",
       "      <th>model</th>\n",
       "      <th>condition</th>\n",
       "      <th>cylinders</th>\n",
       "      <th>fuel</th>\n",
       "      <th>odometer</th>\n",
       "      <th>transmission</th>\n",
       "      <th>type</th>\n",
       "      <th>paint_color</th>\n",
       "      <th>is_4wd</th>\n",
       "      <th>date_posted</th>\n",
       "      <th>days_listed</th>\n",
       "    </tr>\n",
       "  </thead>\n",
       "  <tbody>\n",
       "    <tr>\n",
       "      <th>2432</th>\n",
       "      <td>7900</td>\n",
       "      <td>2011.0</td>\n",
       "      <td>toyota prius</td>\n",
       "      <td>good</td>\n",
       "      <td>0.0</td>\n",
       "      <td>electric</td>\n",
       "      <td>78466.0</td>\n",
       "      <td>automatic</td>\n",
       "      <td>sedan</td>\n",
       "      <td>NaN</td>\n",
       "      <td>0.0</td>\n",
       "      <td>2018-09-13</td>\n",
       "      <td>34</td>\n",
       "    </tr>\n",
       "    <tr>\n",
       "      <th>9626</th>\n",
       "      <td>1</td>\n",
       "      <td>2018.0</td>\n",
       "      <td>chevrolet silverado</td>\n",
       "      <td>new</td>\n",
       "      <td>0.0</td>\n",
       "      <td>electric</td>\n",
       "      <td>30000.0</td>\n",
       "      <td>automatic</td>\n",
       "      <td>truck</td>\n",
       "      <td>red</td>\n",
       "      <td>1.0</td>\n",
       "      <td>2018-11-21</td>\n",
       "      <td>64</td>\n",
       "    </tr>\n",
       "    <tr>\n",
       "      <th>20988</th>\n",
       "      <td>10200</td>\n",
       "      <td>2008.0</td>\n",
       "      <td>toyota tundra</td>\n",
       "      <td>excellent</td>\n",
       "      <td>0.0</td>\n",
       "      <td>electric</td>\n",
       "      <td>131984.0</td>\n",
       "      <td>automatic</td>\n",
       "      <td>truck</td>\n",
       "      <td>NaN</td>\n",
       "      <td>1.0</td>\n",
       "      <td>2019-02-19</td>\n",
       "      <td>20</td>\n",
       "    </tr>\n",
       "    <tr>\n",
       "      <th>22190</th>\n",
       "      <td>15000</td>\n",
       "      <td>2017.0</td>\n",
       "      <td>ford focus</td>\n",
       "      <td>like new</td>\n",
       "      <td>0.0</td>\n",
       "      <td>electric</td>\n",
       "      <td>12000.0</td>\n",
       "      <td>automatic</td>\n",
       "      <td>hatchback</td>\n",
       "      <td>white</td>\n",
       "      <td>0.0</td>\n",
       "      <td>2018-11-16</td>\n",
       "      <td>66</td>\n",
       "    </tr>\n",
       "    <tr>\n",
       "      <th>46423</th>\n",
       "      <td>4400</td>\n",
       "      <td>2008.0</td>\n",
       "      <td>chevrolet impala</td>\n",
       "      <td>excellent</td>\n",
       "      <td>0.0</td>\n",
       "      <td>electric</td>\n",
       "      <td>120946.0</td>\n",
       "      <td>automatic</td>\n",
       "      <td>other</td>\n",
       "      <td>red</td>\n",
       "      <td>0.0</td>\n",
       "      <td>2018-11-19</td>\n",
       "      <td>36</td>\n",
       "    </tr>\n",
       "    <tr>\n",
       "      <th>49643</th>\n",
       "      <td>4700</td>\n",
       "      <td>2007.0</td>\n",
       "      <td>toyota prius</td>\n",
       "      <td>excellent</td>\n",
       "      <td>0.0</td>\n",
       "      <td>electric</td>\n",
       "      <td>134000.0</td>\n",
       "      <td>automatic</td>\n",
       "      <td>hatchback</td>\n",
       "      <td>custom</td>\n",
       "      <td>0.0</td>\n",
       "      <td>2019-02-18</td>\n",
       "      <td>39</td>\n",
       "    </tr>\n",
       "  </tbody>\n",
       "</table>\n",
       "</div>"
      ],
      "text/plain": [
       "       price  model_year                model  condition  cylinders      fuel  \\\n",
       "2432    7900      2011.0         toyota prius       good        0.0  electric   \n",
       "9626       1      2018.0  chevrolet silverado        new        0.0  electric   \n",
       "20988  10200      2008.0        toyota tundra  excellent        0.0  electric   \n",
       "22190  15000      2017.0           ford focus   like new        0.0  electric   \n",
       "46423   4400      2008.0     chevrolet impala  excellent        0.0  electric   \n",
       "49643   4700      2007.0         toyota prius  excellent        0.0  electric   \n",
       "\n",
       "       odometer transmission       type paint_color  is_4wd date_posted  \\\n",
       "2432    78466.0    automatic      sedan         NaN     0.0  2018-09-13   \n",
       "9626    30000.0    automatic      truck         red     1.0  2018-11-21   \n",
       "20988  131984.0    automatic      truck         NaN     1.0  2019-02-19   \n",
       "22190   12000.0    automatic  hatchback       white     0.0  2018-11-16   \n",
       "46423  120946.0    automatic      other         red     0.0  2018-11-19   \n",
       "49643  134000.0    automatic  hatchback      custom     0.0  2019-02-18   \n",
       "\n",
       "       days_listed  \n",
       "2432            34  \n",
       "9626            64  \n",
       "20988           20  \n",
       "22190           66  \n",
       "46423           36  \n",
       "49643           39  "
      ]
     },
     "execution_count": 30,
     "metadata": {},
     "output_type": "execute_result"
    }
   ],
   "source": [
    "data[\"cylinders\"]=data[\"cylinders\"].where((data[\"fuel\"]!=\"electric\"),0)\n",
    "data[data[\"fuel\"]==\"electric\"]"
   ]
  },
  {
   "cell_type": "markdown",
   "metadata": {},
   "source": [
    "Investigating missing values in the `cylinders` column"
   ]
  },
  {
   "cell_type": "code",
   "execution_count": 31,
   "metadata": {},
   "outputs": [
    {
     "data": {
      "text/plain": [
       "truck          1262\n",
       "sedan          1248\n",
       "SUV            1222\n",
       "pickup          712\n",
       "coupe           221\n",
       "wagon           162\n",
       "hatchback       128\n",
       "mini-van        127\n",
       "van              57\n",
       "convertible      36\n",
       "other            31\n",
       "offroad          22\n",
       "bus               4\n",
       "Name: type, dtype: int64"
      ]
     },
     "execution_count": 31,
     "metadata": {},
     "output_type": "execute_result"
    }
   ],
   "source": [
    "data[data['cylinders'].isnull()]['type'].value_counts()"
   ]
  },
  {
   "cell_type": "code",
   "execution_count": 32,
   "metadata": {},
   "outputs": [
    {
     "data": {
      "text/plain": [
       "ford f-150                     315\n",
       "chevrolet silverado 1500       229\n",
       "ram 1500                       185\n",
       "chevrolet silverado            136\n",
       "ram 2500                       122\n",
       "                              ... \n",
       "chevrolet colorado              22\n",
       "ford f350 super duty            20\n",
       "ford f150 supercrew cab xlt     20\n",
       "dodge dakota                    18\n",
       "bmw x5                          16\n",
       "Name: model, Length: 99, dtype: int64"
      ]
     },
     "execution_count": 32,
     "metadata": {},
     "output_type": "execute_result"
    }
   ],
   "source": [
    "data[data['cylinders'].isnull()]['model'].value_counts()"
   ]
  },
  {
   "cell_type": "markdown",
   "metadata": {},
   "source": [
    "Missing values in cylinders are spread out, and do not have a clear pattern. However, as every fuel vehicle should have a cylinder except electric cars. I would fill missing values in the cylinders column grouped by median of models."
   ]
  },
  {
   "cell_type": "code",
   "execution_count": 33,
   "metadata": {},
   "outputs": [],
   "source": [
    "data[\"cylinders\"] = data[\"cylinders\"].fillna(round(data.groupby(\"model\")[\"cylinders\"].transform(\"median\"),0))"
   ]
  },
  {
   "cell_type": "markdown",
   "metadata": {},
   "source": [
    "Checking if there still exist missing values in data aside `paint_color`"
   ]
  },
  {
   "cell_type": "code",
   "execution_count": 34,
   "metadata": {},
   "outputs": [
    {
     "data": {
      "text/plain": [
       "price              0\n",
       "model_year         0\n",
       "model              0\n",
       "condition          0\n",
       "cylinders          0\n",
       "fuel               0\n",
       "odometer           0\n",
       "transmission       0\n",
       "type               0\n",
       "paint_color     9229\n",
       "is_4wd             0\n",
       "date_posted        0\n",
       "days_listed        0\n",
       "dtype: int64"
      ]
     },
     "execution_count": 34,
     "metadata": {},
     "output_type": "execute_result"
    }
   ],
   "source": [
    "data.isnull().sum()"
   ]
  },
  {
   "cell_type": "markdown",
   "metadata": {},
   "source": [
    "Missing values have been identified and dealt with"
   ]
  },
  {
   "cell_type": "markdown",
   "metadata": {},
   "source": [
    "### Checking if there are duplicates in the data\n",
    "\n",
    "Counting duplicates in the entire dataset as individual columns do not have unique values (like id numbers) that can be detected. "
   ]
  },
  {
   "cell_type": "code",
   "execution_count": 35,
   "metadata": {},
   "outputs": [
    {
     "data": {
      "text/plain": [
       "0"
      ]
     },
     "execution_count": 35,
     "metadata": {},
     "output_type": "execute_result"
    }
   ],
   "source": [
    "data.duplicated().sum()"
   ]
  },
  {
   "cell_type": "markdown",
   "metadata": {},
   "source": [
    "There are no duplicates in the data"
   ]
  },
  {
   "cell_type": "markdown",
   "metadata": {},
   "source": [
    "### Converting the data to the required types\n",
    "\n",
    "i.e. `model_year`,`is_4wd`, `cylinders`, and `date_posted`"
   ]
  },
  {
   "cell_type": "code",
   "execution_count": 36,
   "metadata": {},
   "outputs": [
    {
     "name": "stdout",
     "output_type": "stream",
     "text": [
      "<class 'pandas.core.frame.DataFrame'>\n",
      "Int64Index: 51297 entries, 0 to 51524\n",
      "Data columns (total 13 columns):\n",
      " #   Column        Non-Null Count  Dtype         \n",
      "---  ------        --------------  -----         \n",
      " 0   price         51297 non-null  int64         \n",
      " 1   model_year    51297 non-null  int64         \n",
      " 2   model         51297 non-null  object        \n",
      " 3   condition     51297 non-null  object        \n",
      " 4   cylinders     51297 non-null  int64         \n",
      " 5   fuel          51297 non-null  object        \n",
      " 6   odometer      51297 non-null  float64       \n",
      " 7   transmission  51297 non-null  object        \n",
      " 8   type          51297 non-null  object        \n",
      " 9   paint_color   42068 non-null  object        \n",
      " 10  is_4wd        51297 non-null  int64         \n",
      " 11  date_posted   51297 non-null  datetime64[ns]\n",
      " 12  days_listed   51297 non-null  int64         \n",
      "dtypes: datetime64[ns](1), float64(1), int64(5), object(6)\n",
      "memory usage: 5.5+ MB\n"
     ]
    }
   ],
   "source": [
    "data[\"model_year\"]=data[\"model_year\"].astype(\"int64\")\n",
    "data[\"is_4wd\"]=data[\"is_4wd\"].astype(\"int64\")\n",
    "data[\"cylinders\"]=data[\"cylinders\"].astype(\"int64\")\n",
    "data[\"date_posted\"]=pd.to_datetime(data[\"date_posted\"], format = \"%Y-%m-%d\")\n",
    "data.info()"
   ]
  },
  {
   "cell_type": "markdown",
   "metadata": {},
   "source": [
    "Data converted to required types "
   ]
  },
  {
   "cell_type": "markdown",
   "metadata": {},
   "source": [
    "## Step 3. Make calculations and add them to the table\n",
    "\n",
    "I will calculate and add the following columns\n",
    "1. Day of the week, month, and year the ad was placed\n",
    "2. The vehicle's age (in years) when the ad was placed\n",
    "3. The vehicle's average mileage per year"
   ]
  },
  {
   "cell_type": "code",
   "execution_count": 37,
   "metadata": {},
   "outputs": [],
   "source": [
    "data[\"day_of_the_week\"] =data[\"date_posted\"].dt.weekday\n",
    "data[\"month\"]=data[\"date_posted\"].dt.month\n",
    "data[\"year\"]=data[\"date_posted\"].dt.year"
   ]
  },
  {
   "cell_type": "code",
   "execution_count": 38,
   "metadata": {},
   "outputs": [],
   "source": [
    "data[\"vehicle_age\"] = data[\"year\"] - data[\"model_year\"]"
   ]
  },
  {
   "cell_type": "code",
   "execution_count": 39,
   "metadata": {},
   "outputs": [],
   "source": [
    "data[\"average_mileage\"] = (data[\"odometer\"]/data[\"vehicle_age\"]).where(data[\"vehicle_age\"]!= 0,data[\"odometer\"])"
   ]
  },
  {
   "cell_type": "markdown",
   "metadata": {},
   "source": [
    "Replacing string values with a numeric scale in the \"condition\" column"
   ]
  },
  {
   "cell_type": "code",
   "execution_count": 40,
   "metadata": {},
   "outputs": [],
   "source": [
    "def conditions (scale):\n",
    "    \"\"\"The function replaces string values with a numeric scale in the condition column\"\"\"\n",
    "    condition = scale[\"condition\"]\n",
    "    if condition == \"new\":\n",
    "        return 5\n",
    "    elif condition == \"like new\":\n",
    "        return 4\n",
    "    elif condition == \"excellent\":\n",
    "        return 3\n",
    "    elif condition == \"good\":\n",
    "        return 2\n",
    "    elif condition == \"fair\":\n",
    "        return 1\n",
    "    return 0\n",
    "data[\"condition\"]= data.apply(conditions,axis =1)"
   ]
  },
  {
   "cell_type": "code",
   "execution_count": 41,
   "metadata": {},
   "outputs": [
    {
     "data": {
      "text/html": [
       "<div>\n",
       "<style scoped>\n",
       "    .dataframe tbody tr th:only-of-type {\n",
       "        vertical-align: middle;\n",
       "    }\n",
       "\n",
       "    .dataframe tbody tr th {\n",
       "        vertical-align: top;\n",
       "    }\n",
       "\n",
       "    .dataframe thead th {\n",
       "        text-align: right;\n",
       "    }\n",
       "</style>\n",
       "<table border=\"1\" class=\"dataframe\">\n",
       "  <thead>\n",
       "    <tr style=\"text-align: right;\">\n",
       "      <th></th>\n",
       "      <th>price</th>\n",
       "      <th>model_year</th>\n",
       "      <th>model</th>\n",
       "      <th>condition</th>\n",
       "      <th>cylinders</th>\n",
       "      <th>fuel</th>\n",
       "      <th>odometer</th>\n",
       "      <th>transmission</th>\n",
       "      <th>type</th>\n",
       "      <th>paint_color</th>\n",
       "      <th>is_4wd</th>\n",
       "      <th>date_posted</th>\n",
       "      <th>days_listed</th>\n",
       "      <th>day_of_the_week</th>\n",
       "      <th>month</th>\n",
       "      <th>year</th>\n",
       "      <th>vehicle_age</th>\n",
       "      <th>average_mileage</th>\n",
       "    </tr>\n",
       "  </thead>\n",
       "  <tbody>\n",
       "    <tr>\n",
       "      <th>0</th>\n",
       "      <td>9400</td>\n",
       "      <td>2011</td>\n",
       "      <td>bmw x5</td>\n",
       "      <td>2</td>\n",
       "      <td>6</td>\n",
       "      <td>gas</td>\n",
       "      <td>145000.0</td>\n",
       "      <td>automatic</td>\n",
       "      <td>SUV</td>\n",
       "      <td>NaN</td>\n",
       "      <td>1</td>\n",
       "      <td>2018-06-23</td>\n",
       "      <td>19</td>\n",
       "      <td>5</td>\n",
       "      <td>6</td>\n",
       "      <td>2018</td>\n",
       "      <td>7</td>\n",
       "      <td>20714.285714</td>\n",
       "    </tr>\n",
       "    <tr>\n",
       "      <th>1</th>\n",
       "      <td>25500</td>\n",
       "      <td>2011</td>\n",
       "      <td>ford f-150</td>\n",
       "      <td>2</td>\n",
       "      <td>6</td>\n",
       "      <td>gas</td>\n",
       "      <td>88705.0</td>\n",
       "      <td>automatic</td>\n",
       "      <td>pickup</td>\n",
       "      <td>white</td>\n",
       "      <td>1</td>\n",
       "      <td>2018-10-19</td>\n",
       "      <td>50</td>\n",
       "      <td>4</td>\n",
       "      <td>10</td>\n",
       "      <td>2018</td>\n",
       "      <td>7</td>\n",
       "      <td>12672.142857</td>\n",
       "    </tr>\n",
       "    <tr>\n",
       "      <th>2</th>\n",
       "      <td>5500</td>\n",
       "      <td>2013</td>\n",
       "      <td>hyundai sonata</td>\n",
       "      <td>4</td>\n",
       "      <td>4</td>\n",
       "      <td>gas</td>\n",
       "      <td>110000.0</td>\n",
       "      <td>automatic</td>\n",
       "      <td>sedan</td>\n",
       "      <td>red</td>\n",
       "      <td>0</td>\n",
       "      <td>2019-02-07</td>\n",
       "      <td>79</td>\n",
       "      <td>3</td>\n",
       "      <td>2</td>\n",
       "      <td>2019</td>\n",
       "      <td>6</td>\n",
       "      <td>18333.333333</td>\n",
       "    </tr>\n",
       "    <tr>\n",
       "      <th>3</th>\n",
       "      <td>1500</td>\n",
       "      <td>2003</td>\n",
       "      <td>ford f-150</td>\n",
       "      <td>1</td>\n",
       "      <td>8</td>\n",
       "      <td>gas</td>\n",
       "      <td>121928.0</td>\n",
       "      <td>automatic</td>\n",
       "      <td>pickup</td>\n",
       "      <td>NaN</td>\n",
       "      <td>0</td>\n",
       "      <td>2019-03-22</td>\n",
       "      <td>9</td>\n",
       "      <td>4</td>\n",
       "      <td>3</td>\n",
       "      <td>2019</td>\n",
       "      <td>16</td>\n",
       "      <td>7620.500000</td>\n",
       "    </tr>\n",
       "    <tr>\n",
       "      <th>4</th>\n",
       "      <td>14900</td>\n",
       "      <td>2017</td>\n",
       "      <td>chrysler 200</td>\n",
       "      <td>3</td>\n",
       "      <td>4</td>\n",
       "      <td>gas</td>\n",
       "      <td>80903.0</td>\n",
       "      <td>automatic</td>\n",
       "      <td>sedan</td>\n",
       "      <td>black</td>\n",
       "      <td>0</td>\n",
       "      <td>2019-04-02</td>\n",
       "      <td>28</td>\n",
       "      <td>1</td>\n",
       "      <td>4</td>\n",
       "      <td>2019</td>\n",
       "      <td>2</td>\n",
       "      <td>40451.500000</td>\n",
       "    </tr>\n",
       "  </tbody>\n",
       "</table>\n",
       "</div>"
      ],
      "text/plain": [
       "   price  model_year           model  condition  cylinders fuel  odometer  \\\n",
       "0   9400        2011          bmw x5          2          6  gas  145000.0   \n",
       "1  25500        2011      ford f-150          2          6  gas   88705.0   \n",
       "2   5500        2013  hyundai sonata          4          4  gas  110000.0   \n",
       "3   1500        2003      ford f-150          1          8  gas  121928.0   \n",
       "4  14900        2017    chrysler 200          3          4  gas   80903.0   \n",
       "\n",
       "  transmission    type paint_color  is_4wd date_posted  days_listed  \\\n",
       "0    automatic     SUV         NaN       1  2018-06-23           19   \n",
       "1    automatic  pickup       white       1  2018-10-19           50   \n",
       "2    automatic   sedan         red       0  2019-02-07           79   \n",
       "3    automatic  pickup         NaN       0  2019-03-22            9   \n",
       "4    automatic   sedan       black       0  2019-04-02           28   \n",
       "\n",
       "   day_of_the_week  month  year  vehicle_age  average_mileage  \n",
       "0                5      6  2018            7     20714.285714  \n",
       "1                4     10  2018            7     12672.142857  \n",
       "2                3      2  2019            6     18333.333333  \n",
       "3                4      3  2019           16      7620.500000  \n",
       "4                1      4  2019            2     40451.500000  "
      ]
     },
     "execution_count": 41,
     "metadata": {},
     "output_type": "execute_result"
    }
   ],
   "source": [
    "data.head()"
   ]
  },
  {
   "cell_type": "markdown",
   "metadata": {},
   "source": [
    "New columns added"
   ]
  },
  {
   "cell_type": "markdown",
   "metadata": {},
   "source": [
    "## Step 4. Carry out exploratory data analysis"
   ]
  },
  {
   "cell_type": "markdown",
   "metadata": {},
   "source": [
    "Dictionary selection for histogram visualisation"
   ]
  },
  {
   "cell_type": "code",
   "execution_count": 42,
   "metadata": {},
   "outputs": [],
   "source": [
    "hist_data= data[[\"price\", \"vehicle_age\",\"odometer\", \"cylinders\",\"condition\"]]"
   ]
  },
  {
   "cell_type": "markdown",
   "metadata": {},
   "source": [
    "### Plotting histograms for each parameter"
   ]
  },
  {
   "cell_type": "code",
   "execution_count": 43,
   "metadata": {},
   "outputs": [
    {
     "data": {
      "image/png": "[encoded data removed]",
      "text/plain": [
       "<Figure size 864x576 with 6 Axes>"
      ]
     },
     "metadata": {
      "needs_background": "light"
     },
     "output_type": "display_data"
    }
   ],
   "source": [
    "hist_data.hist(figsize =(12,8), bins=15)\n",
    "plt.show()"
   ]
  },
  {
   "cell_type": "markdown",
   "metadata": {},
   "source": [
    "**Filter outliers and replot histogtrams**"
   ]
  },
  {
   "cell_type": "code",
   "execution_count": 44,
   "metadata": {},
   "outputs": [
    {
     "data": {
      "image/png": "[encoded data removed]",
      "text/plain": [
       "<Figure size 864x576 with 6 Axes>"
      ]
     },
     "metadata": {
      "needs_background": "light"
     },
     "output_type": "display_data"
    }
   ],
   "source": [
    "Q1 = hist_data.quantile(0.25)\n",
    "Q3 = hist_data.quantile(0.75)\n",
    "IQR = Q3 - Q1\n",
    "\n",
    "hist_data_filter = hist_data[(hist_data < (Q3 + 1.5 * IQR))]\n",
    "hist_data_filter.hist(figsize=(12,8), bins= 15)\n",
    "plt.show()"
   ]
  },
  {
   "cell_type": "markdown",
   "metadata": {},
   "source": [
    "### Interim conclusions from the histograms\n",
    "1. Considering the car conditions, the most frequently advertised car conditions (with and without outliers) is when the car's\n",
    "condition is excellent(3). Here, the few outliers does not significantly affect the redability of the histogram.\n",
    "2. Considering the car cylinders, the mostly frequently used number of cylinders are 8 and 6 followed by 4. \n",
    "As there are virtually no outliers  in this column, the histograms are the same.\n",
    "3. Considering the odometer histogram, outliers significantly afffect the readability of the histogram.  \n",
    "With outliers,the histogram peaks between 0 and 200000 mileage with a frequency above 20000. However, without outliers, \n",
    "the most frequent odometer is about 8000, with a modal value contained between mileage 100000 and 150000. Without outliers, \n",
    "the odometer looks far less skewed; it is more skewed with outliers.\n",
    "4. Considering the price histogram, again outliers significantly afffect the readability of the histogram. With outliers, \n",
    "it is peaking above a frequncy of 40000 with car price between 0 and 25000. However,without outliers, \n",
    "the histogram peaks around a price of 5000 and a frequency of about 8000. Even though both are skewed,\n",
    "the histogram is much flatter without outliers.\n",
    "5. Considering the vehicle age histogram, outliers significantly afffect the readability of the histogram. Without outliers, \n",
    "the histogram is much flatter and peaks at a different vehicle age."
   ]
  },
  {
   "cell_type": "markdown",
   "metadata": {},
   "source": [
    "**Ploting a histogram of the number of days advertisements are displayed**"
   ]
  },
  {
   "cell_type": "code",
   "execution_count": 45,
   "metadata": {},
   "outputs": [
    {
     "data": {
      "image/png": "[encoded data removed]",
      "text/plain": [
       "<Figure size 864x576 with 1 Axes>"
      ]
     },
     "metadata": {
      "needs_background": "light"
     },
     "output_type": "display_data"
    }
   ],
   "source": [
    "ax= data[\"days_listed\"].hist(bins=50, figsize=(12,8))\n",
    "ax.set_ylabel(\"Frequency\", fontdict={\"size\":12})\n",
    "ax.set_xlabel(\"Days Listed\", fontdict={\"size\":12})\n",
    "plt.title(\"A Histogram of the Number of Days Ads are Displayed\", fontdict={\"size\":12})\n",
    "plt.show()"
   ]
  },
  {
   "cell_type": "markdown",
   "metadata": {},
   "source": [
    "Calculating the mean and median of the number of days advertisements are posted to help describe a typical lifetime of an add"
   ]
  },
  {
   "cell_type": "code",
   "execution_count": 46,
   "metadata": {},
   "outputs": [
    {
     "data": {
      "text/plain": [
       "40.0"
      ]
     },
     "execution_count": 46,
     "metadata": {},
     "output_type": "execute_result"
    }
   ],
   "source": [
    "round(data[\"days_listed\"].mean(),0)"
   ]
  },
  {
   "cell_type": "code",
   "execution_count": 47,
   "metadata": {},
   "outputs": [
    {
     "data": {
      "text/plain": [
       "33.0"
      ]
     },
     "execution_count": 47,
     "metadata": {},
     "output_type": "execute_result"
    }
   ],
   "source": [
    "round(data[\"days_listed\"].median(),0)"
   ]
  },
  {
   "cell_type": "code",
   "execution_count": 48,
   "metadata": {},
   "outputs": [
    {
     "data": {
      "text/plain": [
       "242"
      ]
     },
     "execution_count": 48,
     "metadata": {},
     "output_type": "execute_result"
    }
   ],
   "source": [
    "data[data[\"days_listed\"]>150].shape[0] #number of times adds lasted for more than 150 days"
   ]
  },
  {
   "cell_type": "code",
   "execution_count": 49,
   "metadata": {},
   "outputs": [
    {
     "data": {
      "text/plain": [
       "54"
      ]
     },
     "execution_count": 49,
     "metadata": {},
     "output_type": "execute_result"
    }
   ],
   "source": [
    "data[data[\"days_listed\"]<1].shape[0]# number of times adds did no last up to a day"
   ]
  },
  {
   "cell_type": "markdown",
   "metadata": {},
   "source": [
    "From the histogram, the most frequent days that adds lasted are between 0 and 50 days.\n",
    "On average, an add typically last about 40 days. Using 150 days as benchmark (abnormally long time for adds), there were 242 instances where adds lasted for more days. The discriptive statistics of the data showed an add lasted for 271 days (the highest). In 54 instances, adds lasted for less than a day (were removed quickly)."
   ]
  },
  {
   "cell_type": "markdown",
   "metadata": {},
   "source": [
    "**Analyzing the number of ads and the average price for each type of vehicle**"
   ]
  },
  {
   "cell_type": "code",
   "execution_count": 50,
   "metadata": {},
   "outputs": [],
   "source": [
    "hist_data_filter[\"type\"]=data[\"type\"] #adding \"type\" column to dictionary"
   ]
  },
  {
   "cell_type": "code",
   "execution_count": 51,
   "metadata": {},
   "outputs": [
    {
     "data": {
      "text/html": [
       "<div>\n",
       "<style scoped>\n",
       "    .dataframe tbody tr th:only-of-type {\n",
       "        vertical-align: middle;\n",
       "    }\n",
       "\n",
       "    .dataframe tbody tr th {\n",
       "        vertical-align: top;\n",
       "    }\n",
       "\n",
       "    .dataframe thead th {\n",
       "        text-align: right;\n",
       "    }\n",
       "</style>\n",
       "<table border=\"1\" class=\"dataframe\">\n",
       "  <thead>\n",
       "    <tr style=\"text-align: right;\">\n",
       "      <th></th>\n",
       "      <th>number_of_adds</th>\n",
       "      <th>average_price</th>\n",
       "    </tr>\n",
       "    <tr>\n",
       "      <th>type</th>\n",
       "      <th></th>\n",
       "      <th></th>\n",
       "    </tr>\n",
       "  </thead>\n",
       "  <tbody>\n",
       "    <tr>\n",
       "      <th>SUV</th>\n",
       "      <td>12053</td>\n",
       "      <td>10316.420559</td>\n",
       "    </tr>\n",
       "    <tr>\n",
       "      <th>bus</th>\n",
       "      <td>24</td>\n",
       "      <td>17135.666667</td>\n",
       "    </tr>\n",
       "    <tr>\n",
       "      <th>convertible</th>\n",
       "      <td>418</td>\n",
       "      <td>12399.313397</td>\n",
       "    </tr>\n",
       "    <tr>\n",
       "      <th>coupe</th>\n",
       "      <td>2218</td>\n",
       "      <td>13276.918395</td>\n",
       "    </tr>\n",
       "    <tr>\n",
       "      <th>hatchback</th>\n",
       "      <td>1042</td>\n",
       "      <td>6827.960653</td>\n",
       "    </tr>\n",
       "    <tr>\n",
       "      <th>mini-van</th>\n",
       "      <td>1157</td>\n",
       "      <td>8004.687986</td>\n",
       "    </tr>\n",
       "    <tr>\n",
       "      <th>offroad</th>\n",
       "      <td>206</td>\n",
       "      <td>13177.674757</td>\n",
       "    </tr>\n",
       "    <tr>\n",
       "      <th>other</th>\n",
       "      <td>248</td>\n",
       "      <td>10562.552419</td>\n",
       "    </tr>\n",
       "    <tr>\n",
       "      <th>pickup</th>\n",
       "      <td>6602</td>\n",
       "      <td>14598.299303</td>\n",
       "    </tr>\n",
       "    <tr>\n",
       "      <th>sedan</th>\n",
       "      <td>12086</td>\n",
       "      <td>6938.000993</td>\n",
       "    </tr>\n",
       "    <tr>\n",
       "      <th>truck</th>\n",
       "      <td>11500</td>\n",
       "      <td>14830.633826</td>\n",
       "    </tr>\n",
       "    <tr>\n",
       "      <th>van</th>\n",
       "      <td>589</td>\n",
       "      <td>8739.412564</td>\n",
       "    </tr>\n",
       "    <tr>\n",
       "      <th>wagon</th>\n",
       "      <td>1513</td>\n",
       "      <td>8897.716457</td>\n",
       "    </tr>\n",
       "  </tbody>\n",
       "</table>\n",
       "</div>"
      ],
      "text/plain": [
       "             number_of_adds  average_price\n",
       "type                                      \n",
       "SUV                   12053   10316.420559\n",
       "bus                      24   17135.666667\n",
       "convertible             418   12399.313397\n",
       "coupe                  2218   13276.918395\n",
       "hatchback              1042    6827.960653\n",
       "mini-van               1157    8004.687986\n",
       "offroad                 206   13177.674757\n",
       "other                   248   10562.552419\n",
       "pickup                 6602   14598.299303\n",
       "sedan                 12086    6938.000993\n",
       "truck                 11500   14830.633826\n",
       "van                     589    8739.412564\n",
       "wagon                  1513    8897.716457"
      ]
     },
     "execution_count": 51,
     "metadata": {},
     "output_type": "execute_result"
    }
   ],
   "source": [
    "adds = hist_data_filter.pivot_table(index=\"type\", values= [\"price\"], aggfunc =[\"count\", \"mean\"])\n",
    "adds.columns= [\"number_of_adds\", \"average_price\"]\n",
    "adds"
   ]
  },
  {
   "cell_type": "markdown",
   "metadata": {},
   "source": [
    "**Ploting a bar chart showing the dependence of the number of ads on the vehicle type.**"
   ]
  },
  {
   "cell_type": "code",
   "execution_count": 52,
   "metadata": {},
   "outputs": [
    {
     "data": {
      "image/png": "[encoded data removed]",
      "text/plain": [
       "<Figure size 864x432 with 1 Axes>"
      ]
     },
     "metadata": {
      "needs_background": "light"
     },
     "output_type": "display_data"
    }
   ],
   "source": [
    "import seaborn as sns\n",
    "fig, ax = plt.subplots()\n",
    "fig.set_size_inches(12,6)\n",
    "b_chart=sns.barplot(x=adds.index, y=\"number_of_adds\", data=adds, ax=ax, capsize=10)\n",
    "plt.title(\"Type of Cars and Their Number of Advertisement\",fontdict={\"size\":12})\n",
    "plt.ylabel(\"Number of Adds\", fontdict={\"size\":12})\n",
    "plt.xlabel(\"Vehicle Type\", fontdict={\"size\":12})\n",
    "for p in b_chart.patches:\n",
    "    b_chart.annotate(format(p.get_height(), '.0f'), \n",
    "                   (p.get_x() + p.get_width() / 2., p.get_height()), \n",
    "                   ha = 'center', va = 'center', \n",
    "                   xytext= (0, -8), \n",
    "                   textcoords = 'offset points', weight='bold')\n",
    "plt.show()"
   ]
  },
  {
   "cell_type": "markdown",
   "metadata": {},
   "source": [
    "Selecting the two vehicle types with the greatest number of ads:\n",
    "\n",
    "From the graph, these are \"sedan\" and \"SUV\". \n",
    "However, I would sort the \"adds\" DataFrame and slice by index"
   ]
  },
  {
   "cell_type": "code",
   "execution_count": 53,
   "metadata": {},
   "outputs": [
    {
     "data": {
      "text/plain": [
       "['sedan', 'SUV']"
      ]
     },
     "execution_count": 53,
     "metadata": {},
     "output_type": "execute_result"
    }
   ],
   "source": [
    "adds_top_2=adds.sort_values(by=\"number_of_adds\", ascending=False).index[0:2]\n",
    "adds_top_2.tolist()"
   ]
  },
  {
   "cell_type": "markdown",
   "metadata": {},
   "source": [
    "Bus has the lowest number of adds but the highest average price.\n",
    "Sedan and SUV are the two vehicle types with the greatest number of adds"
   ]
  },
  {
   "cell_type": "markdown",
   "metadata": {},
   "source": [
    "### What factors impact price most?\n",
    "\n",
    "Checking whether price depends on vehicle age, mileage, condition, transmission type, and color."
   ]
  },
  {
   "cell_type": "markdown",
   "metadata": {},
   "source": [
    "Adding two categorical columns of interest to the filtered data"
   ]
  },
  {
   "cell_type": "code",
   "execution_count": 54,
   "metadata": {},
   "outputs": [
    {
     "data": {
      "text/html": [
       "<div>\n",
       "<style scoped>\n",
       "    .dataframe tbody tr th:only-of-type {\n",
       "        vertical-align: middle;\n",
       "    }\n",
       "\n",
       "    .dataframe tbody tr th {\n",
       "        vertical-align: top;\n",
       "    }\n",
       "\n",
       "    .dataframe thead th {\n",
       "        text-align: right;\n",
       "    }\n",
       "</style>\n",
       "<table border=\"1\" class=\"dataframe\">\n",
       "  <thead>\n",
       "    <tr style=\"text-align: right;\">\n",
       "      <th></th>\n",
       "      <th>price</th>\n",
       "      <th>vehicle_age</th>\n",
       "      <th>odometer</th>\n",
       "      <th>cylinders</th>\n",
       "      <th>condition</th>\n",
       "      <th>type</th>\n",
       "      <th>transmission</th>\n",
       "      <th>paint_color</th>\n",
       "    </tr>\n",
       "  </thead>\n",
       "  <tbody>\n",
       "    <tr>\n",
       "      <th>0</th>\n",
       "      <td>9400.0</td>\n",
       "      <td>7.0</td>\n",
       "      <td>145000.0</td>\n",
       "      <td>6</td>\n",
       "      <td>2.0</td>\n",
       "      <td>SUV</td>\n",
       "      <td>automatic</td>\n",
       "      <td>NaN</td>\n",
       "    </tr>\n",
       "    <tr>\n",
       "      <th>1</th>\n",
       "      <td>25500.0</td>\n",
       "      <td>7.0</td>\n",
       "      <td>88705.0</td>\n",
       "      <td>6</td>\n",
       "      <td>2.0</td>\n",
       "      <td>pickup</td>\n",
       "      <td>automatic</td>\n",
       "      <td>white</td>\n",
       "    </tr>\n",
       "    <tr>\n",
       "      <th>2</th>\n",
       "      <td>5500.0</td>\n",
       "      <td>6.0</td>\n",
       "      <td>110000.0</td>\n",
       "      <td>4</td>\n",
       "      <td>4.0</td>\n",
       "      <td>sedan</td>\n",
       "      <td>automatic</td>\n",
       "      <td>red</td>\n",
       "    </tr>\n",
       "    <tr>\n",
       "      <th>3</th>\n",
       "      <td>1500.0</td>\n",
       "      <td>16.0</td>\n",
       "      <td>121928.0</td>\n",
       "      <td>8</td>\n",
       "      <td>1.0</td>\n",
       "      <td>pickup</td>\n",
       "      <td>automatic</td>\n",
       "      <td>NaN</td>\n",
       "    </tr>\n",
       "    <tr>\n",
       "      <th>4</th>\n",
       "      <td>14900.0</td>\n",
       "      <td>2.0</td>\n",
       "      <td>80903.0</td>\n",
       "      <td>4</td>\n",
       "      <td>3.0</td>\n",
       "      <td>sedan</td>\n",
       "      <td>automatic</td>\n",
       "      <td>black</td>\n",
       "    </tr>\n",
       "  </tbody>\n",
       "</table>\n",
       "</div>"
      ],
      "text/plain": [
       "     price  vehicle_age  odometer  cylinders  condition    type transmission  \\\n",
       "0   9400.0          7.0  145000.0          6        2.0     SUV    automatic   \n",
       "1  25500.0          7.0   88705.0          6        2.0  pickup    automatic   \n",
       "2   5500.0          6.0  110000.0          4        4.0   sedan    automatic   \n",
       "3   1500.0         16.0  121928.0          8        1.0  pickup    automatic   \n",
       "4  14900.0          2.0   80903.0          4        3.0   sedan    automatic   \n",
       "\n",
       "  paint_color  \n",
       "0         NaN  \n",
       "1       white  \n",
       "2         red  \n",
       "3         NaN  \n",
       "4       black  "
      ]
     },
     "execution_count": 54,
     "metadata": {},
     "output_type": "execute_result"
    }
   ],
   "source": [
    "hist_data_filter[[\"transmission\", \"paint_color\"]] =data[[\"transmission\", \"paint_color\"]]\n",
    "hist_data_filter.head()"
   ]
  },
  {
   "cell_type": "markdown",
   "metadata": {},
   "source": [
    "Checking if transmission types have at least 50 adds; else their parameters won't be valid for analysis. "
   ]
  },
  {
   "cell_type": "code",
   "execution_count": 55,
   "metadata": {},
   "outputs": [
    {
     "data": {
      "text/plain": [
       "automatic    46690\n",
       "manual        2818\n",
       "other         1789\n",
       "Name: transmission, dtype: int64"
      ]
     },
     "execution_count": 55,
     "metadata": {},
     "output_type": "execute_result"
    }
   ],
   "source": [
    "hist_data_filter[\"transmission\"].value_counts()"
   ]
  },
  {
   "cell_type": "markdown",
   "metadata": {},
   "source": [
    "**Plotting a boxplot to see if price depends on the transmision type**"
   ]
  },
  {
   "cell_type": "code",
   "execution_count": 56,
   "metadata": {},
   "outputs": [
    {
     "data": {
      "image/png": "[encoded data removed]",
      "text/plain": [
       "<Figure size 576x432 with 1 Axes>"
      ]
     },
     "metadata": {
      "needs_background": "light"
     },
     "output_type": "display_data"
    }
   ],
   "source": [
    "fig, ax = plt.subplots()\n",
    "fig.set_size_inches(8,6)\n",
    "sns.boxplot(x=\"transmission\", y=\"price\", data =hist_data_filter, linewidth =3, ax=ax)\n",
    "plt.title(\"Price of cars by transmission type\")\n",
    "plt.ylabel(\"Price\")\n",
    "plt.xlabel(\"Transmission type\")\n",
    "plt.show()"
   ]
  },
  {
   "cell_type": "markdown",
   "metadata": {},
   "source": [
    "Price depends on the transmission type; `Other` transmission (which could be continuously variable transmission (CVT) or Semi-automatic & dual-clutch transmissions) have a wider middle prices and a higher median price compared to `manual` and `automatic` transmissions. The transmission with the least median price is `manual`."
   ]
  },
  {
   "cell_type": "markdown",
   "metadata": {},
   "source": [
    "Checking if each paint color  type has at least 50 adds"
   ]
  },
  {
   "cell_type": "code",
   "execution_count": 57,
   "metadata": {},
   "outputs": [
    {
     "data": {
      "text/plain": [
       "white     9985\n",
       "black     7631\n",
       "silver    6225\n",
       "grey      5023\n",
       "blue      4458\n",
       "red       4407\n",
       "green     1392\n",
       "brown     1221\n",
       "custom    1143\n",
       "yellow     252\n",
       "orange     230\n",
       "purple     101\n",
       "Name: paint_color, dtype: int64"
      ]
     },
     "execution_count": 57,
     "metadata": {},
     "output_type": "execute_result"
    }
   ],
   "source": [
    "hist_data_filter[\"paint_color\"].value_counts()"
   ]
  },
  {
   "cell_type": "markdown",
   "metadata": {},
   "source": [
    "**Plotting a boxplot to see if price depends on the paint color**"
   ]
  },
  {
   "cell_type": "code",
   "execution_count": 58,
   "metadata": {},
   "outputs": [
    {
     "data": {
      "text/plain": [
       "0     purple\n",
       "1     orange\n",
       "2     yellow\n",
       "3     custom\n",
       "4      green\n",
       "5      brown\n",
       "6       blue\n",
       "7        red\n",
       "8       grey\n",
       "9     silver\n",
       "10     black\n",
       "11     white\n",
       "Name: paint_color, dtype: object"
      ]
     },
     "execution_count": 58,
     "metadata": {},
     "output_type": "execute_result"
    }
   ],
   "source": [
    "ordered=hist_data_filter.groupby(\"paint_color\")[\"price\"].sum().sort_values().reset_index()[\"paint_color\"]\n",
    "ordered"
   ]
  },
  {
   "cell_type": "code",
   "execution_count": 59,
   "metadata": {},
   "outputs": [
    {
     "data": {
      "image/png": "[encoded data removed]",
      "text/plain": [
       "<Figure size 864x432 with 1 Axes>"
      ]
     },
     "metadata": {
      "needs_background": "light"
     },
     "output_type": "display_data"
    }
   ],
   "source": [
    "fig, ax = plt.subplots()\n",
    "fig.set_size_inches(12,6)\n",
    "sns.boxplot(x=\"paint_color\", y=\"price\", data =hist_data_filter, linewidth =3, ax=ax)\n",
    "plt.title(\"Vehicle Paint Color and Price\")\n",
    "plt.ylabel(\"Price\")\n",
    "plt.xlabel(\"paint_color\")\n",
    "plt.show()"
   ]
  },
  {
   "cell_type": "markdown",
   "metadata": {},
   "source": [
    "Price of a vehicle depends on the paint color. colours yellow, white, and orange dominate with median prices. \n",
    "The least median price is purple color. "
   ]
  },
  {
   "cell_type": "markdown",
   "metadata": {},
   "source": [
    "**Previewing the correlation among the quantitative variables with a seaborn heatmap**\n",
    "\n",
    "Note: The `condition` column is a categorical variable. Therefore, the correlation would be done by using a `point-biserial correlation`."
   ]
  },
  {
   "cell_type": "code",
   "execution_count": 60,
   "metadata": {},
   "outputs": [
    {
     "data": {
      "image/png": "[encoded data removed]",
      "text/plain": [
       "<Figure size 576x432 with 2 Axes>"
      ]
     },
     "metadata": {
      "needs_background": "light"
     },
     "output_type": "display_data"
    }
   ],
   "source": [
    "fig, ax = plt.subplots()\n",
    "fig.set_size_inches(8,6)\n",
    "sns.heatmap(hist_data_filter[[\"price\", \"vehicle_age\", \"odometer\", \"cylinders\"]].corr(), annot = True,linewidths=2, linecolor='black',center= 0, cmap =\"YlGnBu\", ax=ax)\n",
    "plt.show()"
   ]
  },
  {
   "cell_type": "code",
   "execution_count": 61,
   "metadata": {},
   "outputs": [],
   "source": [
    "condition=hist_data_filter.query('condition!=\"nan\" & price!=\"nan\"')"
   ]
  },
  {
   "cell_type": "code",
   "execution_count": 62,
   "metadata": {},
   "outputs": [
    {
     "name": "stdout",
     "output_type": "stream",
     "text": [
      "Correlation between the condition of a vehicle and its' price: PointbiserialrResult(correlation=0.19919407104413067, pvalue=0.0)\n"
     ]
    }
   ],
   "source": [
    "print(\"Correlation between the condition of a vehicle and its' price: {}\".format(stats.pointbiserialr(condition[\"condition\"],condition[\"price\"])))"
   ]
  },
  {
   "cell_type": "markdown",
   "metadata": {},
   "source": [
    "Vehicle's age influences price the most (adverse effect). This is followed by a vehicle's mileage(also adverse effect). Among the three quantitative variables, the number of cylinders in a vehicle although has positive correlation with price, it has the least impact on price. There is also a positive and significant relation between the condition of a vehicle and its' price."
   ]
  },
  {
   "cell_type": "markdown",
   "metadata": {},
   "source": [
    "**Displaying the relationships in scatter plots**"
   ]
  },
  {
   "cell_type": "code",
   "execution_count": 63,
   "metadata": {
    "scrolled": true
   },
   "outputs": [
    {
     "data": {
      "image/png": "[encoded data removed]",
      "text/plain": [
       "<Figure size 432x288 with 1 Axes>"
      ]
     },
     "metadata": {
      "needs_background": "light"
     },
     "output_type": "display_data"
    }
   ],
   "source": [
    "hist_data_filter.plot(y=\"price\", x= \"vehicle_age\", kind=\"scatter\", color= \"teal\",alpha=.03)\n",
    "plt.title(\"A Scatter Plot of Price and Vehicle Age\",fontdict={\"size\":12})\n",
    "plt.ylabel(\"Price\", fontdict={\"size\":12})\n",
    "plt.xlabel(\"Vehicle Age\", fontdict={\"size\":12})\n",
    "plt.show()"
   ]
  },
  {
   "cell_type": "markdown",
   "metadata": {},
   "source": [
    "It is clear that as a vehecle's age goes up, it's price falls."
   ]
  },
  {
   "cell_type": "code",
   "execution_count": 64,
   "metadata": {},
   "outputs": [
    {
     "data": {
      "image/png": "[encoded data removed]",
      "text/plain": [
       "<Figure size 432x288 with 1 Axes>"
      ]
     },
     "metadata": {
      "needs_background": "light"
     },
     "output_type": "display_data"
    }
   ],
   "source": [
    "hist_data_filter.plot(y=\"price\", x= \"odometer\", color= \"teal\", kind=\"scatter\", alpha=.1)\n",
    "plt.title(\"A Scatter Plot of Price and Odometer\",fontdict={\"size\":12})\n",
    "plt.ylabel(\"Price\", fontdict={\"size\":12})\n",
    "plt.xlabel(\"Odometer\", fontdict={\"size\":12})\n",
    "plt.show()"
   ]
  },
  {
   "cell_type": "markdown",
   "metadata": {},
   "source": [
    "The more mileage a vehicle has, the lower the price"
   ]
  },
  {
   "cell_type": "code",
   "execution_count": 65,
   "metadata": {},
   "outputs": [
    {
     "data": {
      "image/png": "[encoded data removed]",
      "text/plain": [
       "<Figure size 432x288 with 1 Axes>"
      ]
     },
     "metadata": {
      "needs_background": "light"
     },
     "output_type": "display_data"
    }
   ],
   "source": [
    "hist_data_filter.plot(y=\"price\", x= \"condition\", color=\"teal\", kind=\"scatter\", alpha=.1)\n",
    "plt.title(\"A Scatter Plot of Price and Vehicle Condition\",fontdict={\"size\":12})\n",
    "plt.ylabel(\"Price\", fontdict={\"size\":12})\n",
    "plt.xlabel(\"Condition\", fontdict={\"size\":12})\n",
    "plt.show()"
   ]
  },
  {
   "cell_type": "markdown",
   "metadata": {},
   "source": [
    "Cars in at least a good condition (2 or more), have higher prices."
   ]
  },
  {
   "cell_type": "markdown",
   "metadata": {},
   "source": [
    "## Step 5. Overall conclusion\n",
    "- Outliers significantly affect the readability of histograms.\n",
    "- On average, a typical add last for about  40 days. About 54 adds lasted less than a day. The abnormally longest time an add lasted was 271 days.\n",
    "- Bus vehicle type have the lowest number of adds but the highest average price. Sedan and SUV are the vehicle types with the highest number of adds.\n",
    "- Vehicle price depends on the type of vehicle transmission: `Other`transmissions  have the highest median prices. Manuel transmissions have the lowest median prices.\n",
    "- A vehicle's price depends on the paint color type. \n",
    "- The older a vehicle, the lower the price. Among the quantitative variables considered, a vehicle's age correlates the greatest with price.  \n",
    "- The higher a vehicle's mileage, the lower the price.\n",
    "- A vehicle in at least a good condition has a higher price than fair and salvage vehicles."
   ]
  },
  {
   "cell_type": "code",
   "execution_count": null,
   "metadata": {},
   "outputs": [],
   "source": []
  }
 ],
 "metadata": {
  "kernelspec": {
   "display_name": "Python 3",
   "language": "python",
   "name": "python3"
  },
  "language_info": {
   "codemirror_mode": {
    "name": "ipython",
    "version": 3
   },
   "file_extension": ".py",
   "mimetype": "text/x-python",
   "name": "python",
   "nbconvert_exporter": "python",
   "pygments_lexer": "ipython3",
   "version": "3.7.6"
  },
  "toc": {
   "base_numbering": 1,
   "nav_menu": {},
   "number_sections": false,
   "sideBar": true,
   "skip_h1_title": true,
   "title_cell": "Table of Contents",
   "title_sidebar": "Contents",
   "toc_cell": true,
   "toc_position": {
    "height": "calc(100% - 180px)",
    "left": "10px",
    "top": "150px",
    "width": "273.188px"
   },
   "toc_section_display": true,
   "toc_window_display": true
  }
 },
 "nbformat": 4,
 "nbformat_minor": 2
}
